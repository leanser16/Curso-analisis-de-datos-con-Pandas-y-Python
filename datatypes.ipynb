{
  "nbformat": 4,
  "nbformat_minor": 0,
  "metadata": {
    "colab": {
      "name": "datatypes.ipynb",
      "provenance": [],
      "collapsed_sections": []
    },
    "kernelspec": {
      "name": "python3",
      "display_name": "Python 3"
    },
    "language_info": {
      "name": "python"
    }
  },
  "cells": [
    {
      "cell_type": "markdown",
      "metadata": {
        "id": "QxHj2vAZBvDg"
      },
      "source": [
        "# Curso de Manipulación y Análisis de Datos con Pandas y Python\n",
        "\n",
        "## 📚 Módulo 2. Funcionalidades básicas y esenciales de pandas\n",
        "\n",
        "### Clase 9. Tipos de Variables que componen un DataFrame\n",
        "\n"
      ]
    },
    {
      "cell_type": "markdown",
      "metadata": {
        "id": "zNbuZ6eeCK_I"
      },
      "source": [
        "Actualizar Pandas"
      ]
    },
    {
      "cell_type": "code",
      "metadata": {
        "id": "F5_Ijf-LBezi"
      },
      "source": [
        "!pip install --upgrade pandas"
      ],
      "execution_count": null,
      "outputs": []
    },
    {
      "cell_type": "markdown",
      "metadata": {
        "id": "C--t2aU8C61d"
      },
      "source": [
        "Conectar a Google Drive"
      ]
    },
    {
      "cell_type": "code",
      "metadata": {
        "colab": {
          "base_uri": "https://localhost:8080/"
        },
        "id": "Cuf2uUZXCPG1",
        "outputId": "e7b8bd69-fb28-44e3-969d-886d14ce5f63"
      },
      "source": [
        "from google.colab import drive\n",
        "drive.mount('/content/drive/')"
      ],
      "execution_count": null,
      "outputs": [
        {
          "output_type": "stream",
          "text": [
            "Mounted at /content/drive/\n"
          ],
          "name": "stdout"
        }
      ]
    },
    {
      "cell_type": "markdown",
      "metadata": {
        "id": "Io1kqP6VDK33"
      },
      "source": [
        "Posicionarse en la carpeta con el Data Set"
      ]
    },
    {
      "cell_type": "code",
      "metadata": {
        "colab": {
          "base_uri": "https://localhost:8080/"
        },
        "id": "AcRQlowgDGHV",
        "outputId": "2839060f-70e6-4141-9ee4-0fc935048af3"
      },
      "source": [
        "%cd '/content/drive/MyDrive/Colab Notebooks/Curso-Pandas-y-Python/db'\n",
        "!ls"
      ],
      "execution_count": null,
      "outputs": [
        {
          "output_type": "stream",
          "text": [
            "/content/drive/MyDrive/Colab Notebooks/Curso-Pandas-y-Python/db\n",
            "Meteorite_Landings.csv\ttest.hdf   test.parquet  test.xlsx\n",
            "test.csv\t\ttest.json  test.pkl\n"
          ],
          "name": "stdout"
        }
      ]
    },
    {
      "cell_type": "markdown",
      "metadata": {
        "id": "O7cORx0uDZDC"
      },
      "source": [
        "Importar Pandas"
      ]
    },
    {
      "cell_type": "code",
      "metadata": {
        "colab": {
          "base_uri": "https://localhost:8080/",
          "height": 35
        },
        "id": "hqegEQuqDSdN",
        "outputId": "97836203-21a7-43e7-e0f2-d027bd00729d"
      },
      "source": [
        "import pandas as pd\n",
        "pd.__version__"
      ],
      "execution_count": null,
      "outputs": [
        {
          "output_type": "execute_result",
          "data": {
            "application/vnd.google.colaboratory.intrinsic+json": {
              "type": "string"
            },
            "text/plain": [
              "'1.1.5'"
            ]
          },
          "metadata": {
            "tags": []
          },
          "execution_count": 3
        }
      ]
    },
    {
      "cell_type": "markdown",
      "metadata": {
        "id": "PtlQ3W_5FG_t"
      },
      "source": [
        "## Análisis\n",
        "\n",
        "`head()` y `tail()` son métodos que permiten ver las filas en un DataFrame que están al principio y al final respectivamente. POr defecto muestran 5 filas, pero eso se puede modificar pasandole al método el número de filas que se quieren mostrar como parámetro.\n",
        "\n",
        "`sample()` extrae una muestra del Data Set con filas elegidas de forma aleatoria. El número de filas que se quiere obtener se puede especificar como un parámetro."
      ]
    },
    {
      "cell_type": "code",
      "metadata": {
        "colab": {
          "base_uri": "https://localhost:8080/",
          "height": 411
        },
        "id": "vRuXXImUFJOq",
        "outputId": "9bb96958-f50b-4ad8-e894-6279ab8af53c"
      },
      "source": [
        "df_meteorites = pd.read_csv('Meteorite_Landings.csv')\n",
        "df_meteorites.head()"
      ],
      "execution_count": null,
      "outputs": [
        {
          "output_type": "execute_result",
          "data": {
            "text/html": [
              "<div>\n",
              "<style scoped>\n",
              "    .dataframe tbody tr th:only-of-type {\n",
              "        vertical-align: middle;\n",
              "    }\n",
              "\n",
              "    .dataframe tbody tr th {\n",
              "        vertical-align: top;\n",
              "    }\n",
              "\n",
              "    .dataframe thead th {\n",
              "        text-align: right;\n",
              "    }\n",
              "</style>\n",
              "<table border=\"1\" class=\"dataframe\">\n",
              "  <thead>\n",
              "    <tr style=\"text-align: right;\">\n",
              "      <th></th>\n",
              "      <th>name</th>\n",
              "      <th>id</th>\n",
              "      <th>nametype</th>\n",
              "      <th>recclass</th>\n",
              "      <th>mass (g)</th>\n",
              "      <th>fall</th>\n",
              "      <th>year</th>\n",
              "      <th>reclat</th>\n",
              "      <th>reclong</th>\n",
              "      <th>GeoLocation</th>\n",
              "    </tr>\n",
              "  </thead>\n",
              "  <tbody>\n",
              "    <tr>\n",
              "      <th>0</th>\n",
              "      <td>Aachen</td>\n",
              "      <td>1</td>\n",
              "      <td>Valid</td>\n",
              "      <td>L5</td>\n",
              "      <td>21.0</td>\n",
              "      <td>Fell</td>\n",
              "      <td>01/01/1880 12:00:00 AM</td>\n",
              "      <td>50.77500</td>\n",
              "      <td>6.08333</td>\n",
              "      <td>(50.775, 6.08333)</td>\n",
              "    </tr>\n",
              "    <tr>\n",
              "      <th>1</th>\n",
              "      <td>Aarhus</td>\n",
              "      <td>2</td>\n",
              "      <td>Valid</td>\n",
              "      <td>H6</td>\n",
              "      <td>720.0</td>\n",
              "      <td>Fell</td>\n",
              "      <td>01/01/1951 12:00:00 AM</td>\n",
              "      <td>56.18333</td>\n",
              "      <td>10.23333</td>\n",
              "      <td>(56.18333, 10.23333)</td>\n",
              "    </tr>\n",
              "    <tr>\n",
              "      <th>2</th>\n",
              "      <td>Abee</td>\n",
              "      <td>6</td>\n",
              "      <td>Valid</td>\n",
              "      <td>EH4</td>\n",
              "      <td>107000.0</td>\n",
              "      <td>Fell</td>\n",
              "      <td>01/01/1952 12:00:00 AM</td>\n",
              "      <td>54.21667</td>\n",
              "      <td>-113.00000</td>\n",
              "      <td>(54.21667, -113.0)</td>\n",
              "    </tr>\n",
              "    <tr>\n",
              "      <th>3</th>\n",
              "      <td>Acapulco</td>\n",
              "      <td>10</td>\n",
              "      <td>Valid</td>\n",
              "      <td>Acapulcoite</td>\n",
              "      <td>1914.0</td>\n",
              "      <td>Fell</td>\n",
              "      <td>01/01/1976 12:00:00 AM</td>\n",
              "      <td>16.88333</td>\n",
              "      <td>-99.90000</td>\n",
              "      <td>(16.88333, -99.9)</td>\n",
              "    </tr>\n",
              "    <tr>\n",
              "      <th>4</th>\n",
              "      <td>Achiras</td>\n",
              "      <td>370</td>\n",
              "      <td>Valid</td>\n",
              "      <td>L6</td>\n",
              "      <td>780.0</td>\n",
              "      <td>Fell</td>\n",
              "      <td>01/01/1902 12:00:00 AM</td>\n",
              "      <td>-33.16667</td>\n",
              "      <td>-64.95000</td>\n",
              "      <td>(-33.16667, -64.95)</td>\n",
              "    </tr>\n",
              "  </tbody>\n",
              "</table>\n",
              "</div>"
            ],
            "text/plain": [
              "       name   id nametype  ...    reclat    reclong           GeoLocation\n",
              "0    Aachen    1    Valid  ...  50.77500    6.08333     (50.775, 6.08333)\n",
              "1    Aarhus    2    Valid  ...  56.18333   10.23333  (56.18333, 10.23333)\n",
              "2      Abee    6    Valid  ...  54.21667 -113.00000    (54.21667, -113.0)\n",
              "3  Acapulco   10    Valid  ...  16.88333  -99.90000     (16.88333, -99.9)\n",
              "4   Achiras  370    Valid  ... -33.16667  -64.95000   (-33.16667, -64.95)\n",
              "\n",
              "[5 rows x 10 columns]"
            ]
          },
          "metadata": {
            "tags": []
          },
          "execution_count": 4
        }
      ]
    },
    {
      "cell_type": "markdown",
      "metadata": {
        "id": "wTm_cKNzIr4C"
      },
      "source": [
        "`shape` muestra el número de filas y columnas que tiene el DataFrame"
      ]
    },
    {
      "cell_type": "code",
      "metadata": {
        "colab": {
          "base_uri": "https://localhost:8080/"
        },
        "id": "hU68rNJAFXgT",
        "outputId": "45f77bde-f634-459f-f4ce-35894c46d8cf"
      },
      "source": [
        "df_meteorites.shape"
      ],
      "execution_count": null,
      "outputs": [
        {
          "output_type": "execute_result",
          "data": {
            "text/plain": [
              "(45716, 10)"
            ]
          },
          "metadata": {
            "tags": []
          },
          "execution_count": 5
        }
      ]
    },
    {
      "cell_type": "markdown",
      "metadata": {
        "id": "5EkPqs-LJDdg"
      },
      "source": [
        "`size` muestra la cantidad total de registros quen componen el DataFrame"
      ]
    },
    {
      "cell_type": "code",
      "metadata": {
        "colab": {
          "base_uri": "https://localhost:8080/"
        },
        "id": "97BGNT5yJPKU",
        "outputId": "f5e01c4e-53e9-4abc-858c-afec6379633b"
      },
      "source": [
        "df_meteorites.size"
      ],
      "execution_count": null,
      "outputs": [
        {
          "output_type": "execute_result",
          "data": {
            "text/plain": [
              "457160"
            ]
          },
          "metadata": {
            "tags": []
          },
          "execution_count": 6
        }
      ]
    },
    {
      "cell_type": "markdown",
      "metadata": {
        "id": "dMY-VtnDJk9s"
      },
      "source": [
        "`describe()` muestra cualidades estadísticas de las variables numéricas de la base de datos"
      ]
    },
    {
      "cell_type": "code",
      "metadata": {
        "colab": {
          "base_uri": "https://localhost:8080/",
          "height": 297
        },
        "id": "WBF8wMYfJRZx",
        "outputId": "3454e81c-ea0b-4e0c-cfb0-c0c2bcbf9c68"
      },
      "source": [
        "# Quitar la notación científica\n",
        "pd.options.display.float_format = '{:,.1f}'.format\n",
        "\n",
        "df_meteorites.describe()"
      ],
      "execution_count": null,
      "outputs": [
        {
          "output_type": "execute_result",
          "data": {
            "text/html": [
              "<div>\n",
              "<style scoped>\n",
              "    .dataframe tbody tr th:only-of-type {\n",
              "        vertical-align: middle;\n",
              "    }\n",
              "\n",
              "    .dataframe tbody tr th {\n",
              "        vertical-align: top;\n",
              "    }\n",
              "\n",
              "    .dataframe thead th {\n",
              "        text-align: right;\n",
              "    }\n",
              "</style>\n",
              "<table border=\"1\" class=\"dataframe\">\n",
              "  <thead>\n",
              "    <tr style=\"text-align: right;\">\n",
              "      <th></th>\n",
              "      <th>id</th>\n",
              "      <th>mass (g)</th>\n",
              "      <th>reclat</th>\n",
              "      <th>reclong</th>\n",
              "    </tr>\n",
              "  </thead>\n",
              "  <tbody>\n",
              "    <tr>\n",
              "      <th>count</th>\n",
              "      <td>45,716.0</td>\n",
              "      <td>45,585.0</td>\n",
              "      <td>38,401.0</td>\n",
              "      <td>38,401.0</td>\n",
              "    </tr>\n",
              "    <tr>\n",
              "      <th>mean</th>\n",
              "      <td>26,889.7</td>\n",
              "      <td>13,278.1</td>\n",
              "      <td>-39.1</td>\n",
              "      <td>61.1</td>\n",
              "    </tr>\n",
              "    <tr>\n",
              "      <th>std</th>\n",
              "      <td>16,860.7</td>\n",
              "      <td>574,988.9</td>\n",
              "      <td>46.4</td>\n",
              "      <td>80.6</td>\n",
              "    </tr>\n",
              "    <tr>\n",
              "      <th>min</th>\n",
              "      <td>1.0</td>\n",
              "      <td>0.0</td>\n",
              "      <td>-87.4</td>\n",
              "      <td>-165.4</td>\n",
              "    </tr>\n",
              "    <tr>\n",
              "      <th>25%</th>\n",
              "      <td>12,688.8</td>\n",
              "      <td>7.2</td>\n",
              "      <td>-76.7</td>\n",
              "      <td>0.0</td>\n",
              "    </tr>\n",
              "    <tr>\n",
              "      <th>50%</th>\n",
              "      <td>24,261.5</td>\n",
              "      <td>32.6</td>\n",
              "      <td>-71.5</td>\n",
              "      <td>35.7</td>\n",
              "    </tr>\n",
              "    <tr>\n",
              "      <th>75%</th>\n",
              "      <td>40,656.8</td>\n",
              "      <td>202.6</td>\n",
              "      <td>0.0</td>\n",
              "      <td>157.2</td>\n",
              "    </tr>\n",
              "    <tr>\n",
              "      <th>max</th>\n",
              "      <td>57,458.0</td>\n",
              "      <td>60,000,000.0</td>\n",
              "      <td>81.2</td>\n",
              "      <td>354.5</td>\n",
              "    </tr>\n",
              "  </tbody>\n",
              "</table>\n",
              "</div>"
            ],
            "text/plain": [
              "            id     mass (g)   reclat  reclong\n",
              "count 45,716.0     45,585.0 38,401.0 38,401.0\n",
              "mean  26,889.7     13,278.1    -39.1     61.1\n",
              "std   16,860.7    574,988.9     46.4     80.6\n",
              "min        1.0          0.0    -87.4   -165.4\n",
              "25%   12,688.8          7.2    -76.7      0.0\n",
              "50%   24,261.5         32.6    -71.5     35.7\n",
              "75%   40,656.8        202.6      0.0    157.2\n",
              "max   57,458.0 60,000,000.0     81.2    354.5"
            ]
          },
          "metadata": {
            "tags": []
          },
          "execution_count": 7
        }
      ]
    },
    {
      "cell_type": "markdown",
      "metadata": {
        "id": "RQToE-upLVr-"
      },
      "source": [
        "El parámetro `include='all'` indica que no sólo se analicen las variables numéricas sino también las que son de tipo texto."
      ]
    },
    {
      "cell_type": "code",
      "metadata": {
        "colab": {
          "base_uri": "https://localhost:8080/",
          "height": 444
        },
        "id": "-hX0_DZ7JgkU",
        "outputId": "0c39fcde-421d-45da-9fcc-468fdbe7cd03"
      },
      "source": [
        "df_meteorites.describe(include='all')"
      ],
      "execution_count": null,
      "outputs": [
        {
          "output_type": "execute_result",
          "data": {
            "text/html": [
              "<div>\n",
              "<style scoped>\n",
              "    .dataframe tbody tr th:only-of-type {\n",
              "        vertical-align: middle;\n",
              "    }\n",
              "\n",
              "    .dataframe tbody tr th {\n",
              "        vertical-align: top;\n",
              "    }\n",
              "\n",
              "    .dataframe thead th {\n",
              "        text-align: right;\n",
              "    }\n",
              "</style>\n",
              "<table border=\"1\" class=\"dataframe\">\n",
              "  <thead>\n",
              "    <tr style=\"text-align: right;\">\n",
              "      <th></th>\n",
              "      <th>name</th>\n",
              "      <th>id</th>\n",
              "      <th>nametype</th>\n",
              "      <th>recclass</th>\n",
              "      <th>mass (g)</th>\n",
              "      <th>fall</th>\n",
              "      <th>year</th>\n",
              "      <th>reclat</th>\n",
              "      <th>reclong</th>\n",
              "      <th>GeoLocation</th>\n",
              "    </tr>\n",
              "  </thead>\n",
              "  <tbody>\n",
              "    <tr>\n",
              "      <th>count</th>\n",
              "      <td>45716</td>\n",
              "      <td>45,716.0</td>\n",
              "      <td>45716</td>\n",
              "      <td>45716</td>\n",
              "      <td>45,585.0</td>\n",
              "      <td>45716</td>\n",
              "      <td>45425</td>\n",
              "      <td>38,401.0</td>\n",
              "      <td>38,401.0</td>\n",
              "      <td>38401</td>\n",
              "    </tr>\n",
              "    <tr>\n",
              "      <th>unique</th>\n",
              "      <td>45716</td>\n",
              "      <td>nan</td>\n",
              "      <td>2</td>\n",
              "      <td>466</td>\n",
              "      <td>nan</td>\n",
              "      <td>2</td>\n",
              "      <td>266</td>\n",
              "      <td>nan</td>\n",
              "      <td>nan</td>\n",
              "      <td>17100</td>\n",
              "    </tr>\n",
              "    <tr>\n",
              "      <th>top</th>\n",
              "      <td>Graves Nunataks 98157</td>\n",
              "      <td>nan</td>\n",
              "      <td>Valid</td>\n",
              "      <td>L6</td>\n",
              "      <td>nan</td>\n",
              "      <td>Found</td>\n",
              "      <td>01/01/2003 12:00:00 AM</td>\n",
              "      <td>nan</td>\n",
              "      <td>nan</td>\n",
              "      <td>(0.0, 0.0)</td>\n",
              "    </tr>\n",
              "    <tr>\n",
              "      <th>freq</th>\n",
              "      <td>1</td>\n",
              "      <td>nan</td>\n",
              "      <td>45641</td>\n",
              "      <td>8285</td>\n",
              "      <td>nan</td>\n",
              "      <td>44609</td>\n",
              "      <td>3323</td>\n",
              "      <td>nan</td>\n",
              "      <td>nan</td>\n",
              "      <td>6214</td>\n",
              "    </tr>\n",
              "    <tr>\n",
              "      <th>mean</th>\n",
              "      <td>NaN</td>\n",
              "      <td>26,889.7</td>\n",
              "      <td>NaN</td>\n",
              "      <td>NaN</td>\n",
              "      <td>13,278.1</td>\n",
              "      <td>NaN</td>\n",
              "      <td>NaN</td>\n",
              "      <td>-39.1</td>\n",
              "      <td>61.1</td>\n",
              "      <td>NaN</td>\n",
              "    </tr>\n",
              "    <tr>\n",
              "      <th>std</th>\n",
              "      <td>NaN</td>\n",
              "      <td>16,860.7</td>\n",
              "      <td>NaN</td>\n",
              "      <td>NaN</td>\n",
              "      <td>574,988.9</td>\n",
              "      <td>NaN</td>\n",
              "      <td>NaN</td>\n",
              "      <td>46.4</td>\n",
              "      <td>80.6</td>\n",
              "      <td>NaN</td>\n",
              "    </tr>\n",
              "    <tr>\n",
              "      <th>min</th>\n",
              "      <td>NaN</td>\n",
              "      <td>1.0</td>\n",
              "      <td>NaN</td>\n",
              "      <td>NaN</td>\n",
              "      <td>0.0</td>\n",
              "      <td>NaN</td>\n",
              "      <td>NaN</td>\n",
              "      <td>-87.4</td>\n",
              "      <td>-165.4</td>\n",
              "      <td>NaN</td>\n",
              "    </tr>\n",
              "    <tr>\n",
              "      <th>25%</th>\n",
              "      <td>NaN</td>\n",
              "      <td>12,688.8</td>\n",
              "      <td>NaN</td>\n",
              "      <td>NaN</td>\n",
              "      <td>7.2</td>\n",
              "      <td>NaN</td>\n",
              "      <td>NaN</td>\n",
              "      <td>-76.7</td>\n",
              "      <td>0.0</td>\n",
              "      <td>NaN</td>\n",
              "    </tr>\n",
              "    <tr>\n",
              "      <th>50%</th>\n",
              "      <td>NaN</td>\n",
              "      <td>24,261.5</td>\n",
              "      <td>NaN</td>\n",
              "      <td>NaN</td>\n",
              "      <td>32.6</td>\n",
              "      <td>NaN</td>\n",
              "      <td>NaN</td>\n",
              "      <td>-71.5</td>\n",
              "      <td>35.7</td>\n",
              "      <td>NaN</td>\n",
              "    </tr>\n",
              "    <tr>\n",
              "      <th>75%</th>\n",
              "      <td>NaN</td>\n",
              "      <td>40,656.8</td>\n",
              "      <td>NaN</td>\n",
              "      <td>NaN</td>\n",
              "      <td>202.6</td>\n",
              "      <td>NaN</td>\n",
              "      <td>NaN</td>\n",
              "      <td>0.0</td>\n",
              "      <td>157.2</td>\n",
              "      <td>NaN</td>\n",
              "    </tr>\n",
              "    <tr>\n",
              "      <th>max</th>\n",
              "      <td>NaN</td>\n",
              "      <td>57,458.0</td>\n",
              "      <td>NaN</td>\n",
              "      <td>NaN</td>\n",
              "      <td>60,000,000.0</td>\n",
              "      <td>NaN</td>\n",
              "      <td>NaN</td>\n",
              "      <td>81.2</td>\n",
              "      <td>354.5</td>\n",
              "      <td>NaN</td>\n",
              "    </tr>\n",
              "  </tbody>\n",
              "</table>\n",
              "</div>"
            ],
            "text/plain": [
              "                         name       id nametype  ...   reclat  reclong GeoLocation\n",
              "count                   45716 45,716.0    45716  ... 38,401.0 38,401.0       38401\n",
              "unique                  45716      nan        2  ...      nan      nan       17100\n",
              "top     Graves Nunataks 98157      nan    Valid  ...      nan      nan  (0.0, 0.0)\n",
              "freq                        1      nan    45641  ...      nan      nan        6214\n",
              "mean                      NaN 26,889.7      NaN  ...    -39.1     61.1         NaN\n",
              "std                       NaN 16,860.7      NaN  ...     46.4     80.6         NaN\n",
              "min                       NaN      1.0      NaN  ...    -87.4   -165.4         NaN\n",
              "25%                       NaN 12,688.8      NaN  ...    -76.7      0.0         NaN\n",
              "50%                       NaN 24,261.5      NaN  ...    -71.5     35.7         NaN\n",
              "75%                       NaN 40,656.8      NaN  ...      0.0    157.2         NaN\n",
              "max                       NaN 57,458.0      NaN  ...     81.2    354.5         NaN\n",
              "\n",
              "[11 rows x 10 columns]"
            ]
          },
          "metadata": {
            "tags": []
          },
          "execution_count": 8
        }
      ]
    },
    {
      "cell_type": "markdown",
      "metadata": {
        "id": "Y4f7TGrFMLit"
      },
      "source": [
        "`info()` muestra como están compuestas las categorias dentro del DataFrame. Por ejemplo muestra el tipo de dato de cada categoría y cuantas variables no nulas hay"
      ]
    },
    {
      "cell_type": "code",
      "metadata": {
        "colab": {
          "base_uri": "https://localhost:8080/"
        },
        "id": "bKQ--XOOMexi",
        "outputId": "3433f058-301b-4b96-d954-3a2f3fd9f061"
      },
      "source": [
        "df_meteorites.info()"
      ],
      "execution_count": null,
      "outputs": [
        {
          "output_type": "stream",
          "text": [
            "<class 'pandas.core.frame.DataFrame'>\n",
            "RangeIndex: 45716 entries, 0 to 45715\n",
            "Data columns (total 10 columns):\n",
            " #   Column       Non-Null Count  Dtype  \n",
            "---  ------       --------------  -----  \n",
            " 0   name         45716 non-null  object \n",
            " 1   id           45716 non-null  int64  \n",
            " 2   nametype     45716 non-null  object \n",
            " 3   recclass     45716 non-null  object \n",
            " 4   mass (g)     45585 non-null  float64\n",
            " 5   fall         45716 non-null  object \n",
            " 6   year         45425 non-null  object \n",
            " 7   reclat       38401 non-null  float64\n",
            " 8   reclong      38401 non-null  float64\n",
            " 9   GeoLocation  38401 non-null  object \n",
            "dtypes: float64(3), int64(1), object(6)\n",
            "memory usage: 3.5+ MB\n"
          ],
          "name": "stdout"
        }
      ]
    },
    {
      "cell_type": "markdown",
      "metadata": {
        "id": "_nR-GJrsM6hW"
      },
      "source": [
        "`dtypes` muestra el tipo de dato de cada columna del DataFrame"
      ]
    },
    {
      "cell_type": "code",
      "metadata": {
        "colab": {
          "base_uri": "https://localhost:8080/"
        },
        "id": "yQjkXeyhMhSc",
        "outputId": "7914c791-30d3-4618-847c-c414a48eb3af"
      },
      "source": [
        "df_meteorites.dtypes"
      ],
      "execution_count": null,
      "outputs": [
        {
          "output_type": "execute_result",
          "data": {
            "text/plain": [
              "name            object\n",
              "id               int64\n",
              "nametype        object\n",
              "recclass        object\n",
              "mass (g)       float64\n",
              "fall            object\n",
              "year            object\n",
              "reclat         float64\n",
              "reclong        float64\n",
              "GeoLocation     object\n",
              "dtype: object"
            ]
          },
          "metadata": {
            "tags": []
          },
          "execution_count": 10
        }
      ]
    },
    {
      "cell_type": "markdown",
      "metadata": {
        "id": "Z42ajLYBYl5a"
      },
      "source": [
        "`convert_dtypes()` es un métdo disponible a partir de Pandas 1.0. Lo que hace es cambiar el tipo de dato de las columnnas por el que Pandas considere más apropiado"
      ]
    },
    {
      "cell_type": "code",
      "metadata": {
        "colab": {
          "base_uri": "https://localhost:8080/"
        },
        "id": "aFyOdRcBNOh6",
        "outputId": "31aa4f08-ebdb-401a-eadb-07ac4671cfaa"
      },
      "source": [
        "df_meteorites.convert_dtypes().dtypes"
      ],
      "execution_count": null,
      "outputs": [
        {
          "output_type": "execute_result",
          "data": {
            "text/plain": [
              "name            string\n",
              "id               Int64\n",
              "nametype        string\n",
              "recclass        string\n",
              "mass (g)       float64\n",
              "fall            string\n",
              "year            string\n",
              "reclat         float64\n",
              "reclong        float64\n",
              "GeoLocation     string\n",
              "dtype: object"
            ]
          },
          "metadata": {
            "tags": []
          },
          "execution_count": 11
        }
      ]
    },
    {
      "cell_type": "markdown",
      "metadata": {
        "id": "q8ueIwnrIWVL"
      },
      "source": [
        "### Clase 10. Estructuras de DataFrames en detalle"
      ]
    },
    {
      "cell_type": "markdown",
      "metadata": {
        "id": "wAwrv7hhbON9"
      },
      "source": [
        "`nunique()` permite conocer la variedad de los datos, es decir, cuántos valores únicos tiene cada columna"
      ]
    },
    {
      "cell_type": "code",
      "metadata": {
        "colab": {
          "base_uri": "https://localhost:8080/"
        },
        "id": "VAQ_LAZqZTCx",
        "outputId": "76d37bef-aa12-40c2-d763-89f63b8759a0"
      },
      "source": [
        "df_meteorites.nunique()"
      ],
      "execution_count": null,
      "outputs": [
        {
          "output_type": "execute_result",
          "data": {
            "text/plain": [
              "name           45716\n",
              "id             45716\n",
              "nametype           2\n",
              "recclass         466\n",
              "mass (g)       12576\n",
              "fall               2\n",
              "year             266\n",
              "reclat         12738\n",
              "reclong        14640\n",
              "GeoLocation    17100\n",
              "dtype: int64"
            ]
          },
          "metadata": {
            "tags": []
          },
          "execution_count": 12
        }
      ]
    },
    {
      "cell_type": "markdown",
      "metadata": {
        "id": "m4D78gTkbyTs"
      },
      "source": [
        "Gracias a `nunique()` en la celda anterior se descubrió que en las columnas *nametype* y *fall* sólo contienen 2 valores únicos. Al analizar en detalle el contenido de estas columnas en la celda de abajo se puede ver que estas sólo almacenan un string que define una categoría. A este tipo de variables se les conoce como **variables categoricas**"
      ]
    },
    {
      "cell_type": "code",
      "metadata": {
        "colab": {
          "base_uri": "https://localhost:8080/",
          "height": 419
        },
        "id": "xF6xm9BZbjbY",
        "outputId": "b24f6a9f-b41a-44c5-c593-4503fc67253a"
      },
      "source": [
        "df_meteorites[['fall', 'nametype']]"
      ],
      "execution_count": null,
      "outputs": [
        {
          "output_type": "execute_result",
          "data": {
            "text/html": [
              "<div>\n",
              "<style scoped>\n",
              "    .dataframe tbody tr th:only-of-type {\n",
              "        vertical-align: middle;\n",
              "    }\n",
              "\n",
              "    .dataframe tbody tr th {\n",
              "        vertical-align: top;\n",
              "    }\n",
              "\n",
              "    .dataframe thead th {\n",
              "        text-align: right;\n",
              "    }\n",
              "</style>\n",
              "<table border=\"1\" class=\"dataframe\">\n",
              "  <thead>\n",
              "    <tr style=\"text-align: right;\">\n",
              "      <th></th>\n",
              "      <th>fall</th>\n",
              "      <th>nametype</th>\n",
              "    </tr>\n",
              "  </thead>\n",
              "  <tbody>\n",
              "    <tr>\n",
              "      <th>0</th>\n",
              "      <td>Fell</td>\n",
              "      <td>Valid</td>\n",
              "    </tr>\n",
              "    <tr>\n",
              "      <th>1</th>\n",
              "      <td>Fell</td>\n",
              "      <td>Valid</td>\n",
              "    </tr>\n",
              "    <tr>\n",
              "      <th>2</th>\n",
              "      <td>Fell</td>\n",
              "      <td>Valid</td>\n",
              "    </tr>\n",
              "    <tr>\n",
              "      <th>3</th>\n",
              "      <td>Fell</td>\n",
              "      <td>Valid</td>\n",
              "    </tr>\n",
              "    <tr>\n",
              "      <th>4</th>\n",
              "      <td>Fell</td>\n",
              "      <td>Valid</td>\n",
              "    </tr>\n",
              "    <tr>\n",
              "      <th>...</th>\n",
              "      <td>...</td>\n",
              "      <td>...</td>\n",
              "    </tr>\n",
              "    <tr>\n",
              "      <th>45711</th>\n",
              "      <td>Found</td>\n",
              "      <td>Valid</td>\n",
              "    </tr>\n",
              "    <tr>\n",
              "      <th>45712</th>\n",
              "      <td>Found</td>\n",
              "      <td>Valid</td>\n",
              "    </tr>\n",
              "    <tr>\n",
              "      <th>45713</th>\n",
              "      <td>Found</td>\n",
              "      <td>Valid</td>\n",
              "    </tr>\n",
              "    <tr>\n",
              "      <th>45714</th>\n",
              "      <td>Found</td>\n",
              "      <td>Valid</td>\n",
              "    </tr>\n",
              "    <tr>\n",
              "      <th>45715</th>\n",
              "      <td>Found</td>\n",
              "      <td>Valid</td>\n",
              "    </tr>\n",
              "  </tbody>\n",
              "</table>\n",
              "<p>45716 rows × 2 columns</p>\n",
              "</div>"
            ],
            "text/plain": [
              "        fall nametype\n",
              "0       Fell    Valid\n",
              "1       Fell    Valid\n",
              "2       Fell    Valid\n",
              "3       Fell    Valid\n",
              "4       Fell    Valid\n",
              "...      ...      ...\n",
              "45711  Found    Valid\n",
              "45712  Found    Valid\n",
              "45713  Found    Valid\n",
              "45714  Found    Valid\n",
              "45715  Found    Valid\n",
              "\n",
              "[45716 rows x 2 columns]"
            ]
          },
          "metadata": {
            "tags": []
          },
          "execution_count": 13
        }
      ]
    },
    {
      "cell_type": "markdown",
      "metadata": {
        "id": "dRXDESuHs6Vk"
      },
      "source": [
        "Ahora que ya se sabe que variables categoricas hay en el DataFrame, hay que asignarle a dichas variables el tipo de dato `category`. Esto se hace usando el método `astype(()`"
      ]
    },
    {
      "cell_type": "code",
      "metadata": {
        "colab": {
          "base_uri": "https://localhost:8080/"
        },
        "id": "8V1i7DMttS1f",
        "outputId": "1813200c-0efe-4337-fe42-8bd521cac6b7"
      },
      "source": [
        "df_meteorites[['fall', 'nametype']] = df_meteorites[['fall', 'nametype']].astype('category')\n",
        "\n",
        "df_meteorites.dtypes"
      ],
      "execution_count": null,
      "outputs": [
        {
          "output_type": "execute_result",
          "data": {
            "text/plain": [
              "name             object\n",
              "id                int64\n",
              "nametype       category\n",
              "recclass         object\n",
              "mass (g)        float64\n",
              "fall           category\n",
              "year             object\n",
              "reclat          float64\n",
              "reclong         float64\n",
              "GeoLocation      object\n",
              "dtype: object"
            ]
          },
          "metadata": {
            "tags": []
          },
          "execution_count": 14
        }
      ]
    },
    {
      "cell_type": "markdown",
      "metadata": {
        "id": "01zUtEW9JG1h"
      },
      "source": [
        "También se puede usar `unique()` para conocer cuáles son las variables que componen una categoría"
      ]
    },
    {
      "cell_type": "code",
      "metadata": {
        "colab": {
          "base_uri": "https://localhost:8080/"
        },
        "id": "A_m4Sq7ktrr0",
        "outputId": "9df37c08-c7e8-461f-f191-121137c50ff9"
      },
      "source": [
        "df_meteorites['fall'].unique()"
      ],
      "execution_count": null,
      "outputs": [
        {
          "output_type": "execute_result",
          "data": {
            "text/plain": [
              "['Fell', 'Found']\n",
              "Categories (2, object): ['Fell', 'Found']"
            ]
          },
          "metadata": {
            "tags": []
          },
          "execution_count": 15
        }
      ]
    },
    {
      "cell_type": "markdown",
      "metadata": {
        "id": "hNFL4ZbkucFS"
      },
      "source": [
        "Para saber la frecuencia de cada una de las variables de una categoría se usa `value_counts()`"
      ]
    },
    {
      "cell_type": "code",
      "metadata": {
        "colab": {
          "base_uri": "https://localhost:8080/"
        },
        "id": "qu4MyNwNuTk5",
        "outputId": "0c5344a3-f171-4219-b06d-641ca2f2240f"
      },
      "source": [
        "df_meteorites['fall'].value_counts()"
      ],
      "execution_count": null,
      "outputs": [
        {
          "output_type": "execute_result",
          "data": {
            "text/plain": [
              "Found    44609\n",
              "Fell      1107\n",
              "Name: fall, dtype: int64"
            ]
          },
          "metadata": {
            "tags": []
          },
          "execution_count": 16
        }
      ]
    },
    {
      "cell_type": "markdown",
      "metadata": {
        "id": "5Rp6xyjGs5FD"
      },
      "source": [
        "#### Variables Dummies\n",
        "\n",
        "Una variable dummy sirve para **representar la presencia o la ausencia de un valor en algo**, si está presente toma el valor 1 y sino está presente toma el valor 0. Esto se puede aplicar para cada categoria.\n",
        "\n",
        "Algunas de sus ventajas son:\n",
        "\n",
        "- Son una forma útil de trabajar con variables categoricas debido a que se pasa de una variable de tipo texto a una de tipo númerico lo cuál es muy útil a la hora de realizar en análisis de datos.\n",
        "\n",
        "- Podemos aplicar el mismo modelo para cada categoria ya que todas siguen la misma logica"
      ]
    },
    {
      "cell_type": "code",
      "metadata": {
        "colab": {
          "base_uri": "https://localhost:8080/",
          "height": 419
        },
        "id": "Dgk3rRAms2de",
        "outputId": "89e77f36-eea2-429c-be6d-dcb2be0ad608"
      },
      "source": [
        "pd.get_dummies(df_meteorites['fall'])"
      ],
      "execution_count": null,
      "outputs": [
        {
          "output_type": "execute_result",
          "data": {
            "text/html": [
              "<div>\n",
              "<style scoped>\n",
              "    .dataframe tbody tr th:only-of-type {\n",
              "        vertical-align: middle;\n",
              "    }\n",
              "\n",
              "    .dataframe tbody tr th {\n",
              "        vertical-align: top;\n",
              "    }\n",
              "\n",
              "    .dataframe thead th {\n",
              "        text-align: right;\n",
              "    }\n",
              "</style>\n",
              "<table border=\"1\" class=\"dataframe\">\n",
              "  <thead>\n",
              "    <tr style=\"text-align: right;\">\n",
              "      <th></th>\n",
              "      <th>Fell</th>\n",
              "      <th>Found</th>\n",
              "    </tr>\n",
              "  </thead>\n",
              "  <tbody>\n",
              "    <tr>\n",
              "      <th>0</th>\n",
              "      <td>1</td>\n",
              "      <td>0</td>\n",
              "    </tr>\n",
              "    <tr>\n",
              "      <th>1</th>\n",
              "      <td>1</td>\n",
              "      <td>0</td>\n",
              "    </tr>\n",
              "    <tr>\n",
              "      <th>2</th>\n",
              "      <td>1</td>\n",
              "      <td>0</td>\n",
              "    </tr>\n",
              "    <tr>\n",
              "      <th>3</th>\n",
              "      <td>1</td>\n",
              "      <td>0</td>\n",
              "    </tr>\n",
              "    <tr>\n",
              "      <th>4</th>\n",
              "      <td>1</td>\n",
              "      <td>0</td>\n",
              "    </tr>\n",
              "    <tr>\n",
              "      <th>...</th>\n",
              "      <td>...</td>\n",
              "      <td>...</td>\n",
              "    </tr>\n",
              "    <tr>\n",
              "      <th>45711</th>\n",
              "      <td>0</td>\n",
              "      <td>1</td>\n",
              "    </tr>\n",
              "    <tr>\n",
              "      <th>45712</th>\n",
              "      <td>0</td>\n",
              "      <td>1</td>\n",
              "    </tr>\n",
              "    <tr>\n",
              "      <th>45713</th>\n",
              "      <td>0</td>\n",
              "      <td>1</td>\n",
              "    </tr>\n",
              "    <tr>\n",
              "      <th>45714</th>\n",
              "      <td>0</td>\n",
              "      <td>1</td>\n",
              "    </tr>\n",
              "    <tr>\n",
              "      <th>45715</th>\n",
              "      <td>0</td>\n",
              "      <td>1</td>\n",
              "    </tr>\n",
              "  </tbody>\n",
              "</table>\n",
              "<p>45716 rows × 2 columns</p>\n",
              "</div>"
            ],
            "text/plain": [
              "       Fell  Found\n",
              "0         1      0\n",
              "1         1      0\n",
              "2         1      0\n",
              "3         1      0\n",
              "4         1      0\n",
              "...     ...    ...\n",
              "45711     0      1\n",
              "45712     0      1\n",
              "45713     0      1\n",
              "45714     0      1\n",
              "45715     0      1\n",
              "\n",
              "[45716 rows x 2 columns]"
            ]
          },
          "metadata": {
            "tags": []
          },
          "execution_count": 17
        }
      ]
    },
    {
      "cell_type": "markdown",
      "metadata": {
        "id": "_tdDM-sdt5mG"
      },
      "source": [
        "#### Crear nuevas columnas en un DataFrame"
      ]
    },
    {
      "cell_type": "code",
      "metadata": {
        "colab": {
          "base_uri": "https://localhost:8080/",
          "height": 779
        },
        "id": "dhEuJ7IEt_FL",
        "outputId": "21969ab5-4fb9-4638-922b-4e5f4a03bfd7"
      },
      "source": [
        "df_meteorites['ones'] = 1\n",
        "df_meteorites"
      ],
      "execution_count": null,
      "outputs": [
        {
          "output_type": "execute_result",
          "data": {
            "text/html": [
              "<div>\n",
              "<style scoped>\n",
              "    .dataframe tbody tr th:only-of-type {\n",
              "        vertical-align: middle;\n",
              "    }\n",
              "\n",
              "    .dataframe tbody tr th {\n",
              "        vertical-align: top;\n",
              "    }\n",
              "\n",
              "    .dataframe thead th {\n",
              "        text-align: right;\n",
              "    }\n",
              "</style>\n",
              "<table border=\"1\" class=\"dataframe\">\n",
              "  <thead>\n",
              "    <tr style=\"text-align: right;\">\n",
              "      <th></th>\n",
              "      <th>name</th>\n",
              "      <th>id</th>\n",
              "      <th>nametype</th>\n",
              "      <th>recclass</th>\n",
              "      <th>mass (g)</th>\n",
              "      <th>fall</th>\n",
              "      <th>year</th>\n",
              "      <th>reclat</th>\n",
              "      <th>reclong</th>\n",
              "      <th>GeoLocation</th>\n",
              "      <th>ones</th>\n",
              "    </tr>\n",
              "  </thead>\n",
              "  <tbody>\n",
              "    <tr>\n",
              "      <th>0</th>\n",
              "      <td>Aachen</td>\n",
              "      <td>1</td>\n",
              "      <td>Valid</td>\n",
              "      <td>L5</td>\n",
              "      <td>21.0</td>\n",
              "      <td>Fell</td>\n",
              "      <td>01/01/1880 12:00:00 AM</td>\n",
              "      <td>50.8</td>\n",
              "      <td>6.1</td>\n",
              "      <td>(50.775, 6.08333)</td>\n",
              "      <td>1</td>\n",
              "    </tr>\n",
              "    <tr>\n",
              "      <th>1</th>\n",
              "      <td>Aarhus</td>\n",
              "      <td>2</td>\n",
              "      <td>Valid</td>\n",
              "      <td>H6</td>\n",
              "      <td>720.0</td>\n",
              "      <td>Fell</td>\n",
              "      <td>01/01/1951 12:00:00 AM</td>\n",
              "      <td>56.2</td>\n",
              "      <td>10.2</td>\n",
              "      <td>(56.18333, 10.23333)</td>\n",
              "      <td>1</td>\n",
              "    </tr>\n",
              "    <tr>\n",
              "      <th>2</th>\n",
              "      <td>Abee</td>\n",
              "      <td>6</td>\n",
              "      <td>Valid</td>\n",
              "      <td>EH4</td>\n",
              "      <td>107,000.0</td>\n",
              "      <td>Fell</td>\n",
              "      <td>01/01/1952 12:00:00 AM</td>\n",
              "      <td>54.2</td>\n",
              "      <td>-113.0</td>\n",
              "      <td>(54.21667, -113.0)</td>\n",
              "      <td>1</td>\n",
              "    </tr>\n",
              "    <tr>\n",
              "      <th>3</th>\n",
              "      <td>Acapulco</td>\n",
              "      <td>10</td>\n",
              "      <td>Valid</td>\n",
              "      <td>Acapulcoite</td>\n",
              "      <td>1,914.0</td>\n",
              "      <td>Fell</td>\n",
              "      <td>01/01/1976 12:00:00 AM</td>\n",
              "      <td>16.9</td>\n",
              "      <td>-99.9</td>\n",
              "      <td>(16.88333, -99.9)</td>\n",
              "      <td>1</td>\n",
              "    </tr>\n",
              "    <tr>\n",
              "      <th>4</th>\n",
              "      <td>Achiras</td>\n",
              "      <td>370</td>\n",
              "      <td>Valid</td>\n",
              "      <td>L6</td>\n",
              "      <td>780.0</td>\n",
              "      <td>Fell</td>\n",
              "      <td>01/01/1902 12:00:00 AM</td>\n",
              "      <td>-33.2</td>\n",
              "      <td>-65.0</td>\n",
              "      <td>(-33.16667, -64.95)</td>\n",
              "      <td>1</td>\n",
              "    </tr>\n",
              "    <tr>\n",
              "      <th>...</th>\n",
              "      <td>...</td>\n",
              "      <td>...</td>\n",
              "      <td>...</td>\n",
              "      <td>...</td>\n",
              "      <td>...</td>\n",
              "      <td>...</td>\n",
              "      <td>...</td>\n",
              "      <td>...</td>\n",
              "      <td>...</td>\n",
              "      <td>...</td>\n",
              "      <td>...</td>\n",
              "    </tr>\n",
              "    <tr>\n",
              "      <th>45711</th>\n",
              "      <td>Zillah 002</td>\n",
              "      <td>31356</td>\n",
              "      <td>Valid</td>\n",
              "      <td>Eucrite</td>\n",
              "      <td>172.0</td>\n",
              "      <td>Found</td>\n",
              "      <td>01/01/1990 12:00:00 AM</td>\n",
              "      <td>29.0</td>\n",
              "      <td>17.0</td>\n",
              "      <td>(29.037, 17.0185)</td>\n",
              "      <td>1</td>\n",
              "    </tr>\n",
              "    <tr>\n",
              "      <th>45712</th>\n",
              "      <td>Zinder</td>\n",
              "      <td>30409</td>\n",
              "      <td>Valid</td>\n",
              "      <td>Pallasite, ungrouped</td>\n",
              "      <td>46.0</td>\n",
              "      <td>Found</td>\n",
              "      <td>01/01/1999 12:00:00 AM</td>\n",
              "      <td>13.8</td>\n",
              "      <td>9.0</td>\n",
              "      <td>(13.78333, 8.96667)</td>\n",
              "      <td>1</td>\n",
              "    </tr>\n",
              "    <tr>\n",
              "      <th>45713</th>\n",
              "      <td>Zlin</td>\n",
              "      <td>30410</td>\n",
              "      <td>Valid</td>\n",
              "      <td>H4</td>\n",
              "      <td>3.3</td>\n",
              "      <td>Found</td>\n",
              "      <td>01/01/1939 12:00:00 AM</td>\n",
              "      <td>49.2</td>\n",
              "      <td>17.7</td>\n",
              "      <td>(49.25, 17.66667)</td>\n",
              "      <td>1</td>\n",
              "    </tr>\n",
              "    <tr>\n",
              "      <th>45714</th>\n",
              "      <td>Zubkovsky</td>\n",
              "      <td>31357</td>\n",
              "      <td>Valid</td>\n",
              "      <td>L6</td>\n",
              "      <td>2,167.0</td>\n",
              "      <td>Found</td>\n",
              "      <td>01/01/2003 12:00:00 AM</td>\n",
              "      <td>49.8</td>\n",
              "      <td>41.5</td>\n",
              "      <td>(49.78917, 41.5046)</td>\n",
              "      <td>1</td>\n",
              "    </tr>\n",
              "    <tr>\n",
              "      <th>45715</th>\n",
              "      <td>Zulu Queen</td>\n",
              "      <td>30414</td>\n",
              "      <td>Valid</td>\n",
              "      <td>L3.7</td>\n",
              "      <td>200.0</td>\n",
              "      <td>Found</td>\n",
              "      <td>01/01/1976 12:00:00 AM</td>\n",
              "      <td>34.0</td>\n",
              "      <td>-115.7</td>\n",
              "      <td>(33.98333, -115.68333)</td>\n",
              "      <td>1</td>\n",
              "    </tr>\n",
              "  </tbody>\n",
              "</table>\n",
              "<p>45716 rows × 11 columns</p>\n",
              "</div>"
            ],
            "text/plain": [
              "             name     id nametype  ... reclong             GeoLocation ones\n",
              "0          Aachen      1    Valid  ...     6.1       (50.775, 6.08333)    1\n",
              "1          Aarhus      2    Valid  ...    10.2    (56.18333, 10.23333)    1\n",
              "2            Abee      6    Valid  ...  -113.0      (54.21667, -113.0)    1\n",
              "3        Acapulco     10    Valid  ...   -99.9       (16.88333, -99.9)    1\n",
              "4         Achiras    370    Valid  ...   -65.0     (-33.16667, -64.95)    1\n",
              "...           ...    ...      ...  ...     ...                     ...  ...\n",
              "45711  Zillah 002  31356    Valid  ...    17.0       (29.037, 17.0185)    1\n",
              "45712      Zinder  30409    Valid  ...     9.0     (13.78333, 8.96667)    1\n",
              "45713        Zlin  30410    Valid  ...    17.7       (49.25, 17.66667)    1\n",
              "45714   Zubkovsky  31357    Valid  ...    41.5     (49.78917, 41.5046)    1\n",
              "45715  Zulu Queen  30414    Valid  ...  -115.7  (33.98333, -115.68333)    1\n",
              "\n",
              "[45716 rows x 11 columns]"
            ]
          },
          "metadata": {
            "tags": []
          },
          "execution_count": 18
        }
      ]
    },
    {
      "cell_type": "code",
      "metadata": {
        "colab": {
          "base_uri": "https://localhost:8080/",
          "height": 779
        },
        "id": "OFB3EMJoh4L5",
        "outputId": "9dcda0ee-d1b1-4059-a018-ff96ffec89cc"
      },
      "source": [
        "df_meteorites[['fell', 'found']] = pd.get_dummies(df_meteorites['fall'])\n",
        "df_meteorites"
      ],
      "execution_count": null,
      "outputs": [
        {
          "output_type": "execute_result",
          "data": {
            "text/html": [
              "<div>\n",
              "<style scoped>\n",
              "    .dataframe tbody tr th:only-of-type {\n",
              "        vertical-align: middle;\n",
              "    }\n",
              "\n",
              "    .dataframe tbody tr th {\n",
              "        vertical-align: top;\n",
              "    }\n",
              "\n",
              "    .dataframe thead th {\n",
              "        text-align: right;\n",
              "    }\n",
              "</style>\n",
              "<table border=\"1\" class=\"dataframe\">\n",
              "  <thead>\n",
              "    <tr style=\"text-align: right;\">\n",
              "      <th></th>\n",
              "      <th>name</th>\n",
              "      <th>id</th>\n",
              "      <th>nametype</th>\n",
              "      <th>recclass</th>\n",
              "      <th>mass (g)</th>\n",
              "      <th>fall</th>\n",
              "      <th>year</th>\n",
              "      <th>reclat</th>\n",
              "      <th>reclong</th>\n",
              "      <th>GeoLocation</th>\n",
              "      <th>ones</th>\n",
              "      <th>fell</th>\n",
              "      <th>found</th>\n",
              "    </tr>\n",
              "  </thead>\n",
              "  <tbody>\n",
              "    <tr>\n",
              "      <th>0</th>\n",
              "      <td>Aachen</td>\n",
              "      <td>1</td>\n",
              "      <td>Valid</td>\n",
              "      <td>L5</td>\n",
              "      <td>21.0</td>\n",
              "      <td>Fell</td>\n",
              "      <td>01/01/1880 12:00:00 AM</td>\n",
              "      <td>50.8</td>\n",
              "      <td>6.1</td>\n",
              "      <td>(50.775, 6.08333)</td>\n",
              "      <td>1</td>\n",
              "      <td>1</td>\n",
              "      <td>0</td>\n",
              "    </tr>\n",
              "    <tr>\n",
              "      <th>1</th>\n",
              "      <td>Aarhus</td>\n",
              "      <td>2</td>\n",
              "      <td>Valid</td>\n",
              "      <td>H6</td>\n",
              "      <td>720.0</td>\n",
              "      <td>Fell</td>\n",
              "      <td>01/01/1951 12:00:00 AM</td>\n",
              "      <td>56.2</td>\n",
              "      <td>10.2</td>\n",
              "      <td>(56.18333, 10.23333)</td>\n",
              "      <td>1</td>\n",
              "      <td>1</td>\n",
              "      <td>0</td>\n",
              "    </tr>\n",
              "    <tr>\n",
              "      <th>2</th>\n",
              "      <td>Abee</td>\n",
              "      <td>6</td>\n",
              "      <td>Valid</td>\n",
              "      <td>EH4</td>\n",
              "      <td>107,000.0</td>\n",
              "      <td>Fell</td>\n",
              "      <td>01/01/1952 12:00:00 AM</td>\n",
              "      <td>54.2</td>\n",
              "      <td>-113.0</td>\n",
              "      <td>(54.21667, -113.0)</td>\n",
              "      <td>1</td>\n",
              "      <td>1</td>\n",
              "      <td>0</td>\n",
              "    </tr>\n",
              "    <tr>\n",
              "      <th>3</th>\n",
              "      <td>Acapulco</td>\n",
              "      <td>10</td>\n",
              "      <td>Valid</td>\n",
              "      <td>Acapulcoite</td>\n",
              "      <td>1,914.0</td>\n",
              "      <td>Fell</td>\n",
              "      <td>01/01/1976 12:00:00 AM</td>\n",
              "      <td>16.9</td>\n",
              "      <td>-99.9</td>\n",
              "      <td>(16.88333, -99.9)</td>\n",
              "      <td>1</td>\n",
              "      <td>1</td>\n",
              "      <td>0</td>\n",
              "    </tr>\n",
              "    <tr>\n",
              "      <th>4</th>\n",
              "      <td>Achiras</td>\n",
              "      <td>370</td>\n",
              "      <td>Valid</td>\n",
              "      <td>L6</td>\n",
              "      <td>780.0</td>\n",
              "      <td>Fell</td>\n",
              "      <td>01/01/1902 12:00:00 AM</td>\n",
              "      <td>-33.2</td>\n",
              "      <td>-65.0</td>\n",
              "      <td>(-33.16667, -64.95)</td>\n",
              "      <td>1</td>\n",
              "      <td>1</td>\n",
              "      <td>0</td>\n",
              "    </tr>\n",
              "    <tr>\n",
              "      <th>...</th>\n",
              "      <td>...</td>\n",
              "      <td>...</td>\n",
              "      <td>...</td>\n",
              "      <td>...</td>\n",
              "      <td>...</td>\n",
              "      <td>...</td>\n",
              "      <td>...</td>\n",
              "      <td>...</td>\n",
              "      <td>...</td>\n",
              "      <td>...</td>\n",
              "      <td>...</td>\n",
              "      <td>...</td>\n",
              "      <td>...</td>\n",
              "    </tr>\n",
              "    <tr>\n",
              "      <th>45711</th>\n",
              "      <td>Zillah 002</td>\n",
              "      <td>31356</td>\n",
              "      <td>Valid</td>\n",
              "      <td>Eucrite</td>\n",
              "      <td>172.0</td>\n",
              "      <td>Found</td>\n",
              "      <td>01/01/1990 12:00:00 AM</td>\n",
              "      <td>29.0</td>\n",
              "      <td>17.0</td>\n",
              "      <td>(29.037, 17.0185)</td>\n",
              "      <td>1</td>\n",
              "      <td>0</td>\n",
              "      <td>1</td>\n",
              "    </tr>\n",
              "    <tr>\n",
              "      <th>45712</th>\n",
              "      <td>Zinder</td>\n",
              "      <td>30409</td>\n",
              "      <td>Valid</td>\n",
              "      <td>Pallasite, ungrouped</td>\n",
              "      <td>46.0</td>\n",
              "      <td>Found</td>\n",
              "      <td>01/01/1999 12:00:00 AM</td>\n",
              "      <td>13.8</td>\n",
              "      <td>9.0</td>\n",
              "      <td>(13.78333, 8.96667)</td>\n",
              "      <td>1</td>\n",
              "      <td>0</td>\n",
              "      <td>1</td>\n",
              "    </tr>\n",
              "    <tr>\n",
              "      <th>45713</th>\n",
              "      <td>Zlin</td>\n",
              "      <td>30410</td>\n",
              "      <td>Valid</td>\n",
              "      <td>H4</td>\n",
              "      <td>3.3</td>\n",
              "      <td>Found</td>\n",
              "      <td>01/01/1939 12:00:00 AM</td>\n",
              "      <td>49.2</td>\n",
              "      <td>17.7</td>\n",
              "      <td>(49.25, 17.66667)</td>\n",
              "      <td>1</td>\n",
              "      <td>0</td>\n",
              "      <td>1</td>\n",
              "    </tr>\n",
              "    <tr>\n",
              "      <th>45714</th>\n",
              "      <td>Zubkovsky</td>\n",
              "      <td>31357</td>\n",
              "      <td>Valid</td>\n",
              "      <td>L6</td>\n",
              "      <td>2,167.0</td>\n",
              "      <td>Found</td>\n",
              "      <td>01/01/2003 12:00:00 AM</td>\n",
              "      <td>49.8</td>\n",
              "      <td>41.5</td>\n",
              "      <td>(49.78917, 41.5046)</td>\n",
              "      <td>1</td>\n",
              "      <td>0</td>\n",
              "      <td>1</td>\n",
              "    </tr>\n",
              "    <tr>\n",
              "      <th>45715</th>\n",
              "      <td>Zulu Queen</td>\n",
              "      <td>30414</td>\n",
              "      <td>Valid</td>\n",
              "      <td>L3.7</td>\n",
              "      <td>200.0</td>\n",
              "      <td>Found</td>\n",
              "      <td>01/01/1976 12:00:00 AM</td>\n",
              "      <td>34.0</td>\n",
              "      <td>-115.7</td>\n",
              "      <td>(33.98333, -115.68333)</td>\n",
              "      <td>1</td>\n",
              "      <td>0</td>\n",
              "      <td>1</td>\n",
              "    </tr>\n",
              "  </tbody>\n",
              "</table>\n",
              "<p>45716 rows × 13 columns</p>\n",
              "</div>"
            ],
            "text/plain": [
              "             name     id nametype  ... ones  fell found\n",
              "0          Aachen      1    Valid  ...    1     1     0\n",
              "1          Aarhus      2    Valid  ...    1     1     0\n",
              "2            Abee      6    Valid  ...    1     1     0\n",
              "3        Acapulco     10    Valid  ...    1     1     0\n",
              "4         Achiras    370    Valid  ...    1     1     0\n",
              "...           ...    ...      ...  ...  ...   ...   ...\n",
              "45711  Zillah 002  31356    Valid  ...    1     0     1\n",
              "45712      Zinder  30409    Valid  ...    1     0     1\n",
              "45713        Zlin  30410    Valid  ...    1     0     1\n",
              "45714   Zubkovsky  31357    Valid  ...    1     0     1\n",
              "45715  Zulu Queen  30414    Valid  ...    1     0     1\n",
              "\n",
              "[45716 rows x 13 columns]"
            ]
          },
          "metadata": {
            "tags": []
          },
          "execution_count": 19
        }
      ]
    },
    {
      "cell_type": "markdown",
      "metadata": {
        "id": "QwHEV5swisq9"
      },
      "source": [
        "#### Variables tipo tiempo\n",
        "\n",
        "Para convertir variables de tipo texto en variables de tipo tiempo se usa el método `to_datetime()` de Pandas.\n",
        "\n",
        "El parámetro `errors='coerce'` establece que si se encuentra un formato que corresponde al tiempo se genere un variable no númerica.\n",
        "\n",
        "`format` "
      ]
    },
    {
      "cell_type": "code",
      "metadata": {
        "colab": {
          "base_uri": "https://localhost:8080/"
        },
        "id": "7lXunFCboLg5",
        "outputId": "8409f025-f3f6-49d0-ce8d-eb61531d2f8a"
      },
      "source": [
        "df_meteorites['year']"
      ],
      "execution_count": null,
      "outputs": [
        {
          "output_type": "execute_result",
          "data": {
            "text/plain": [
              "0        01/01/1880 12:00:00 AM\n",
              "1        01/01/1951 12:00:00 AM\n",
              "2        01/01/1952 12:00:00 AM\n",
              "3        01/01/1976 12:00:00 AM\n",
              "4        01/01/1902 12:00:00 AM\n",
              "                  ...          \n",
              "45711    01/01/1990 12:00:00 AM\n",
              "45712    01/01/1999 12:00:00 AM\n",
              "45713    01/01/1939 12:00:00 AM\n",
              "45714    01/01/2003 12:00:00 AM\n",
              "45715    01/01/1976 12:00:00 AM\n",
              "Name: year, Length: 45716, dtype: object"
            ]
          },
          "metadata": {
            "tags": []
          },
          "execution_count": 21
        }
      ]
    },
    {
      "cell_type": "code",
      "metadata": {
        "colab": {
          "base_uri": "https://localhost:8080/",
          "height": 779
        },
        "id": "qMnMlXgNonIv",
        "outputId": "5192c4fb-39c3-4bed-9586-df9ddf5455d3"
      },
      "source": [
        "df_meteorites['year'] = pd.to_datetime(\n",
        "    df_meteorites['year'],\n",
        "    errors='coerce',\n",
        "    format='%m/%d/%Y %H:%M:%S %p'\n",
        ")\n",
        "\n",
        "df_meteorites"
      ],
      "execution_count": null,
      "outputs": [
        {
          "output_type": "execute_result",
          "data": {
            "text/html": [
              "<div>\n",
              "<style scoped>\n",
              "    .dataframe tbody tr th:only-of-type {\n",
              "        vertical-align: middle;\n",
              "    }\n",
              "\n",
              "    .dataframe tbody tr th {\n",
              "        vertical-align: top;\n",
              "    }\n",
              "\n",
              "    .dataframe thead th {\n",
              "        text-align: right;\n",
              "    }\n",
              "</style>\n",
              "<table border=\"1\" class=\"dataframe\">\n",
              "  <thead>\n",
              "    <tr style=\"text-align: right;\">\n",
              "      <th></th>\n",
              "      <th>name</th>\n",
              "      <th>id</th>\n",
              "      <th>nametype</th>\n",
              "      <th>recclass</th>\n",
              "      <th>mass (g)</th>\n",
              "      <th>fall</th>\n",
              "      <th>year</th>\n",
              "      <th>reclat</th>\n",
              "      <th>reclong</th>\n",
              "      <th>GeoLocation</th>\n",
              "      <th>ones</th>\n",
              "      <th>fell</th>\n",
              "      <th>found</th>\n",
              "    </tr>\n",
              "  </thead>\n",
              "  <tbody>\n",
              "    <tr>\n",
              "      <th>0</th>\n",
              "      <td>Aachen</td>\n",
              "      <td>1</td>\n",
              "      <td>Valid</td>\n",
              "      <td>L5</td>\n",
              "      <td>21.0</td>\n",
              "      <td>Fell</td>\n",
              "      <td>1880-01-01 12:00:00</td>\n",
              "      <td>50.8</td>\n",
              "      <td>6.1</td>\n",
              "      <td>(50.775, 6.08333)</td>\n",
              "      <td>1</td>\n",
              "      <td>1</td>\n",
              "      <td>0</td>\n",
              "    </tr>\n",
              "    <tr>\n",
              "      <th>1</th>\n",
              "      <td>Aarhus</td>\n",
              "      <td>2</td>\n",
              "      <td>Valid</td>\n",
              "      <td>H6</td>\n",
              "      <td>720.0</td>\n",
              "      <td>Fell</td>\n",
              "      <td>1951-01-01 12:00:00</td>\n",
              "      <td>56.2</td>\n",
              "      <td>10.2</td>\n",
              "      <td>(56.18333, 10.23333)</td>\n",
              "      <td>1</td>\n",
              "      <td>1</td>\n",
              "      <td>0</td>\n",
              "    </tr>\n",
              "    <tr>\n",
              "      <th>2</th>\n",
              "      <td>Abee</td>\n",
              "      <td>6</td>\n",
              "      <td>Valid</td>\n",
              "      <td>EH4</td>\n",
              "      <td>107,000.0</td>\n",
              "      <td>Fell</td>\n",
              "      <td>1952-01-01 12:00:00</td>\n",
              "      <td>54.2</td>\n",
              "      <td>-113.0</td>\n",
              "      <td>(54.21667, -113.0)</td>\n",
              "      <td>1</td>\n",
              "      <td>1</td>\n",
              "      <td>0</td>\n",
              "    </tr>\n",
              "    <tr>\n",
              "      <th>3</th>\n",
              "      <td>Acapulco</td>\n",
              "      <td>10</td>\n",
              "      <td>Valid</td>\n",
              "      <td>Acapulcoite</td>\n",
              "      <td>1,914.0</td>\n",
              "      <td>Fell</td>\n",
              "      <td>1976-01-01 12:00:00</td>\n",
              "      <td>16.9</td>\n",
              "      <td>-99.9</td>\n",
              "      <td>(16.88333, -99.9)</td>\n",
              "      <td>1</td>\n",
              "      <td>1</td>\n",
              "      <td>0</td>\n",
              "    </tr>\n",
              "    <tr>\n",
              "      <th>4</th>\n",
              "      <td>Achiras</td>\n",
              "      <td>370</td>\n",
              "      <td>Valid</td>\n",
              "      <td>L6</td>\n",
              "      <td>780.0</td>\n",
              "      <td>Fell</td>\n",
              "      <td>1902-01-01 12:00:00</td>\n",
              "      <td>-33.2</td>\n",
              "      <td>-65.0</td>\n",
              "      <td>(-33.16667, -64.95)</td>\n",
              "      <td>1</td>\n",
              "      <td>1</td>\n",
              "      <td>0</td>\n",
              "    </tr>\n",
              "    <tr>\n",
              "      <th>...</th>\n",
              "      <td>...</td>\n",
              "      <td>...</td>\n",
              "      <td>...</td>\n",
              "      <td>...</td>\n",
              "      <td>...</td>\n",
              "      <td>...</td>\n",
              "      <td>...</td>\n",
              "      <td>...</td>\n",
              "      <td>...</td>\n",
              "      <td>...</td>\n",
              "      <td>...</td>\n",
              "      <td>...</td>\n",
              "      <td>...</td>\n",
              "    </tr>\n",
              "    <tr>\n",
              "      <th>45711</th>\n",
              "      <td>Zillah 002</td>\n",
              "      <td>31356</td>\n",
              "      <td>Valid</td>\n",
              "      <td>Eucrite</td>\n",
              "      <td>172.0</td>\n",
              "      <td>Found</td>\n",
              "      <td>1990-01-01 12:00:00</td>\n",
              "      <td>29.0</td>\n",
              "      <td>17.0</td>\n",
              "      <td>(29.037, 17.0185)</td>\n",
              "      <td>1</td>\n",
              "      <td>0</td>\n",
              "      <td>1</td>\n",
              "    </tr>\n",
              "    <tr>\n",
              "      <th>45712</th>\n",
              "      <td>Zinder</td>\n",
              "      <td>30409</td>\n",
              "      <td>Valid</td>\n",
              "      <td>Pallasite, ungrouped</td>\n",
              "      <td>46.0</td>\n",
              "      <td>Found</td>\n",
              "      <td>1999-01-01 12:00:00</td>\n",
              "      <td>13.8</td>\n",
              "      <td>9.0</td>\n",
              "      <td>(13.78333, 8.96667)</td>\n",
              "      <td>1</td>\n",
              "      <td>0</td>\n",
              "      <td>1</td>\n",
              "    </tr>\n",
              "    <tr>\n",
              "      <th>45713</th>\n",
              "      <td>Zlin</td>\n",
              "      <td>30410</td>\n",
              "      <td>Valid</td>\n",
              "      <td>H4</td>\n",
              "      <td>3.3</td>\n",
              "      <td>Found</td>\n",
              "      <td>1939-01-01 12:00:00</td>\n",
              "      <td>49.2</td>\n",
              "      <td>17.7</td>\n",
              "      <td>(49.25, 17.66667)</td>\n",
              "      <td>1</td>\n",
              "      <td>0</td>\n",
              "      <td>1</td>\n",
              "    </tr>\n",
              "    <tr>\n",
              "      <th>45714</th>\n",
              "      <td>Zubkovsky</td>\n",
              "      <td>31357</td>\n",
              "      <td>Valid</td>\n",
              "      <td>L6</td>\n",
              "      <td>2,167.0</td>\n",
              "      <td>Found</td>\n",
              "      <td>2003-01-01 12:00:00</td>\n",
              "      <td>49.8</td>\n",
              "      <td>41.5</td>\n",
              "      <td>(49.78917, 41.5046)</td>\n",
              "      <td>1</td>\n",
              "      <td>0</td>\n",
              "      <td>1</td>\n",
              "    </tr>\n",
              "    <tr>\n",
              "      <th>45715</th>\n",
              "      <td>Zulu Queen</td>\n",
              "      <td>30414</td>\n",
              "      <td>Valid</td>\n",
              "      <td>L3.7</td>\n",
              "      <td>200.0</td>\n",
              "      <td>Found</td>\n",
              "      <td>1976-01-01 12:00:00</td>\n",
              "      <td>34.0</td>\n",
              "      <td>-115.7</td>\n",
              "      <td>(33.98333, -115.68333)</td>\n",
              "      <td>1</td>\n",
              "      <td>0</td>\n",
              "      <td>1</td>\n",
              "    </tr>\n",
              "  </tbody>\n",
              "</table>\n",
              "<p>45716 rows × 13 columns</p>\n",
              "</div>"
            ],
            "text/plain": [
              "             name     id nametype  ... ones  fell found\n",
              "0          Aachen      1    Valid  ...    1     1     0\n",
              "1          Aarhus      2    Valid  ...    1     1     0\n",
              "2            Abee      6    Valid  ...    1     1     0\n",
              "3        Acapulco     10    Valid  ...    1     1     0\n",
              "4         Achiras    370    Valid  ...    1     1     0\n",
              "...           ...    ...      ...  ...  ...   ...   ...\n",
              "45711  Zillah 002  31356    Valid  ...    1     0     1\n",
              "45712      Zinder  30409    Valid  ...    1     0     1\n",
              "45713        Zlin  30410    Valid  ...    1     0     1\n",
              "45714   Zubkovsky  31357    Valid  ...    1     0     1\n",
              "45715  Zulu Queen  30414    Valid  ...    1     0     1\n",
              "\n",
              "[45716 rows x 13 columns]"
            ]
          },
          "metadata": {
            "tags": []
          },
          "execution_count": 25
        }
      ]
    },
    {
      "cell_type": "code",
      "metadata": {
        "colab": {
          "base_uri": "https://localhost:8080/"
        },
        "id": "gUxXtDzI6hXh",
        "outputId": "66ff99b7-6160-40b9-9a6f-d764fbf0f207"
      },
      "source": [
        "df_meteorites.dtypes"
      ],
      "execution_count": null,
      "outputs": [
        {
          "output_type": "execute_result",
          "data": {
            "text/plain": [
              "name                   object\n",
              "id                      int64\n",
              "nametype             category\n",
              "recclass               object\n",
              "mass (g)              float64\n",
              "fall                 category\n",
              "year           datetime64[ns]\n",
              "reclat                float64\n",
              "reclong               float64\n",
              "GeoLocation            object\n",
              "ones                    int64\n",
              "fell                    uint8\n",
              "found                   uint8\n",
              "dtype: object"
            ]
          },
          "metadata": {
            "tags": []
          },
          "execution_count": 26
        }
      ]
    },
    {
      "cell_type": "markdown",
      "metadata": {
        "id": "ERn0yxrg60eL"
      },
      "source": [
        "#### Renombrar columnas\n",
        "\n",
        "Esto se hace con el método `rename()`.\n",
        "\n",
        "- `columns` hace referencia a que se quiere renombrar una columna. Este parámetro recibe un diccionario donde la llave es el nombre de la columna a renombrar y el valor es el nuevo nombre que va a recibir dicha columna.\n",
        "\n",
        "- `inplace=True` indica que el cambio se aplique al DataSet original"
      ]
    },
    {
      "cell_type": "code",
      "metadata": {
        "colab": {
          "base_uri": "https://localhost:8080/",
          "height": 779
        },
        "id": "iPFDso9E636y",
        "outputId": "e7901dd5-39f7-45ea-b249-63250e11a9ab"
      },
      "source": [
        "df_meteorites.rename(columns={'mass (g)': 'mass'}, inplace=True)\n",
        "\n",
        "df_meteorites"
      ],
      "execution_count": null,
      "outputs": [
        {
          "output_type": "execute_result",
          "data": {
            "text/html": [
              "<div>\n",
              "<style scoped>\n",
              "    .dataframe tbody tr th:only-of-type {\n",
              "        vertical-align: middle;\n",
              "    }\n",
              "\n",
              "    .dataframe tbody tr th {\n",
              "        vertical-align: top;\n",
              "    }\n",
              "\n",
              "    .dataframe thead th {\n",
              "        text-align: right;\n",
              "    }\n",
              "</style>\n",
              "<table border=\"1\" class=\"dataframe\">\n",
              "  <thead>\n",
              "    <tr style=\"text-align: right;\">\n",
              "      <th></th>\n",
              "      <th>name</th>\n",
              "      <th>id</th>\n",
              "      <th>nametype</th>\n",
              "      <th>recclass</th>\n",
              "      <th>mass</th>\n",
              "      <th>fall</th>\n",
              "      <th>year</th>\n",
              "      <th>reclat</th>\n",
              "      <th>reclong</th>\n",
              "      <th>GeoLocation</th>\n",
              "      <th>ones</th>\n",
              "      <th>fell</th>\n",
              "      <th>found</th>\n",
              "    </tr>\n",
              "  </thead>\n",
              "  <tbody>\n",
              "    <tr>\n",
              "      <th>0</th>\n",
              "      <td>Aachen</td>\n",
              "      <td>1</td>\n",
              "      <td>Valid</td>\n",
              "      <td>L5</td>\n",
              "      <td>21.0</td>\n",
              "      <td>Fell</td>\n",
              "      <td>1880-01-01 12:00:00</td>\n",
              "      <td>50.8</td>\n",
              "      <td>6.1</td>\n",
              "      <td>(50.775, 6.08333)</td>\n",
              "      <td>1</td>\n",
              "      <td>1</td>\n",
              "      <td>0</td>\n",
              "    </tr>\n",
              "    <tr>\n",
              "      <th>1</th>\n",
              "      <td>Aarhus</td>\n",
              "      <td>2</td>\n",
              "      <td>Valid</td>\n",
              "      <td>H6</td>\n",
              "      <td>720.0</td>\n",
              "      <td>Fell</td>\n",
              "      <td>1951-01-01 12:00:00</td>\n",
              "      <td>56.2</td>\n",
              "      <td>10.2</td>\n",
              "      <td>(56.18333, 10.23333)</td>\n",
              "      <td>1</td>\n",
              "      <td>1</td>\n",
              "      <td>0</td>\n",
              "    </tr>\n",
              "    <tr>\n",
              "      <th>2</th>\n",
              "      <td>Abee</td>\n",
              "      <td>6</td>\n",
              "      <td>Valid</td>\n",
              "      <td>EH4</td>\n",
              "      <td>107,000.0</td>\n",
              "      <td>Fell</td>\n",
              "      <td>1952-01-01 12:00:00</td>\n",
              "      <td>54.2</td>\n",
              "      <td>-113.0</td>\n",
              "      <td>(54.21667, -113.0)</td>\n",
              "      <td>1</td>\n",
              "      <td>1</td>\n",
              "      <td>0</td>\n",
              "    </tr>\n",
              "    <tr>\n",
              "      <th>3</th>\n",
              "      <td>Acapulco</td>\n",
              "      <td>10</td>\n",
              "      <td>Valid</td>\n",
              "      <td>Acapulcoite</td>\n",
              "      <td>1,914.0</td>\n",
              "      <td>Fell</td>\n",
              "      <td>1976-01-01 12:00:00</td>\n",
              "      <td>16.9</td>\n",
              "      <td>-99.9</td>\n",
              "      <td>(16.88333, -99.9)</td>\n",
              "      <td>1</td>\n",
              "      <td>1</td>\n",
              "      <td>0</td>\n",
              "    </tr>\n",
              "    <tr>\n",
              "      <th>4</th>\n",
              "      <td>Achiras</td>\n",
              "      <td>370</td>\n",
              "      <td>Valid</td>\n",
              "      <td>L6</td>\n",
              "      <td>780.0</td>\n",
              "      <td>Fell</td>\n",
              "      <td>1902-01-01 12:00:00</td>\n",
              "      <td>-33.2</td>\n",
              "      <td>-65.0</td>\n",
              "      <td>(-33.16667, -64.95)</td>\n",
              "      <td>1</td>\n",
              "      <td>1</td>\n",
              "      <td>0</td>\n",
              "    </tr>\n",
              "    <tr>\n",
              "      <th>...</th>\n",
              "      <td>...</td>\n",
              "      <td>...</td>\n",
              "      <td>...</td>\n",
              "      <td>...</td>\n",
              "      <td>...</td>\n",
              "      <td>...</td>\n",
              "      <td>...</td>\n",
              "      <td>...</td>\n",
              "      <td>...</td>\n",
              "      <td>...</td>\n",
              "      <td>...</td>\n",
              "      <td>...</td>\n",
              "      <td>...</td>\n",
              "    </tr>\n",
              "    <tr>\n",
              "      <th>45711</th>\n",
              "      <td>Zillah 002</td>\n",
              "      <td>31356</td>\n",
              "      <td>Valid</td>\n",
              "      <td>Eucrite</td>\n",
              "      <td>172.0</td>\n",
              "      <td>Found</td>\n",
              "      <td>1990-01-01 12:00:00</td>\n",
              "      <td>29.0</td>\n",
              "      <td>17.0</td>\n",
              "      <td>(29.037, 17.0185)</td>\n",
              "      <td>1</td>\n",
              "      <td>0</td>\n",
              "      <td>1</td>\n",
              "    </tr>\n",
              "    <tr>\n",
              "      <th>45712</th>\n",
              "      <td>Zinder</td>\n",
              "      <td>30409</td>\n",
              "      <td>Valid</td>\n",
              "      <td>Pallasite, ungrouped</td>\n",
              "      <td>46.0</td>\n",
              "      <td>Found</td>\n",
              "      <td>1999-01-01 12:00:00</td>\n",
              "      <td>13.8</td>\n",
              "      <td>9.0</td>\n",
              "      <td>(13.78333, 8.96667)</td>\n",
              "      <td>1</td>\n",
              "      <td>0</td>\n",
              "      <td>1</td>\n",
              "    </tr>\n",
              "    <tr>\n",
              "      <th>45713</th>\n",
              "      <td>Zlin</td>\n",
              "      <td>30410</td>\n",
              "      <td>Valid</td>\n",
              "      <td>H4</td>\n",
              "      <td>3.3</td>\n",
              "      <td>Found</td>\n",
              "      <td>1939-01-01 12:00:00</td>\n",
              "      <td>49.2</td>\n",
              "      <td>17.7</td>\n",
              "      <td>(49.25, 17.66667)</td>\n",
              "      <td>1</td>\n",
              "      <td>0</td>\n",
              "      <td>1</td>\n",
              "    </tr>\n",
              "    <tr>\n",
              "      <th>45714</th>\n",
              "      <td>Zubkovsky</td>\n",
              "      <td>31357</td>\n",
              "      <td>Valid</td>\n",
              "      <td>L6</td>\n",
              "      <td>2,167.0</td>\n",
              "      <td>Found</td>\n",
              "      <td>2003-01-01 12:00:00</td>\n",
              "      <td>49.8</td>\n",
              "      <td>41.5</td>\n",
              "      <td>(49.78917, 41.5046)</td>\n",
              "      <td>1</td>\n",
              "      <td>0</td>\n",
              "      <td>1</td>\n",
              "    </tr>\n",
              "    <tr>\n",
              "      <th>45715</th>\n",
              "      <td>Zulu Queen</td>\n",
              "      <td>30414</td>\n",
              "      <td>Valid</td>\n",
              "      <td>L3.7</td>\n",
              "      <td>200.0</td>\n",
              "      <td>Found</td>\n",
              "      <td>1976-01-01 12:00:00</td>\n",
              "      <td>34.0</td>\n",
              "      <td>-115.7</td>\n",
              "      <td>(33.98333, -115.68333)</td>\n",
              "      <td>1</td>\n",
              "      <td>0</td>\n",
              "      <td>1</td>\n",
              "    </tr>\n",
              "  </tbody>\n",
              "</table>\n",
              "<p>45716 rows × 13 columns</p>\n",
              "</div>"
            ],
            "text/plain": [
              "             name     id nametype  ... ones  fell found\n",
              "0          Aachen      1    Valid  ...    1     1     0\n",
              "1          Aarhus      2    Valid  ...    1     1     0\n",
              "2            Abee      6    Valid  ...    1     1     0\n",
              "3        Acapulco     10    Valid  ...    1     1     0\n",
              "4         Achiras    370    Valid  ...    1     1     0\n",
              "...           ...    ...      ...  ...  ...   ...   ...\n",
              "45711  Zillah 002  31356    Valid  ...    1     0     1\n",
              "45712      Zinder  30409    Valid  ...    1     0     1\n",
              "45713        Zlin  30410    Valid  ...    1     0     1\n",
              "45714   Zubkovsky  31357    Valid  ...    1     0     1\n",
              "45715  Zulu Queen  30414    Valid  ...    1     0     1\n",
              "\n",
              "[45716 rows x 13 columns]"
            ]
          },
          "metadata": {
            "tags": []
          },
          "execution_count": 27
        }
      ]
    },
    {
      "cell_type": "markdown",
      "metadata": {
        "id": "uq8710zx8etB"
      },
      "source": [
        "Una forma más práctica de obtener los nombres de las columnas del DataFrame es usar `list()` o el atributo `columns` del DataFrame:"
      ]
    },
    {
      "cell_type": "code",
      "metadata": {
        "colab": {
          "base_uri": "https://localhost:8080/"
        },
        "id": "e0s8YVGb8axi",
        "outputId": "d8b7db03-1c5e-4379-fa64-b0d0d9ab9372"
      },
      "source": [
        "list(df_meteorites)"
      ],
      "execution_count": null,
      "outputs": [
        {
          "output_type": "execute_result",
          "data": {
            "text/plain": [
              "['name',\n",
              " 'id',\n",
              " 'nametype',\n",
              " 'recclass',\n",
              " 'mass',\n",
              " 'fall',\n",
              " 'year',\n",
              " 'reclat',\n",
              " 'reclong',\n",
              " 'GeoLocation',\n",
              " 'ones',\n",
              " 'fell',\n",
              " 'found']"
            ]
          },
          "metadata": {
            "tags": []
          },
          "execution_count": 28
        }
      ]
    },
    {
      "cell_type": "code",
      "metadata": {
        "colab": {
          "base_uri": "https://localhost:8080/"
        },
        "id": "APcfxkFY-DR9",
        "outputId": "1687ea1d-1f19-4d83-83b2-8328542e9bb9"
      },
      "source": [
        "df_meteorites.columns"
      ],
      "execution_count": null,
      "outputs": [
        {
          "output_type": "execute_result",
          "data": {
            "text/plain": [
              "Index(['name', 'id', 'nametype', 'recclass', 'mass', 'fall', 'year', 'reclat',\n",
              "       'reclong', 'GeoLocation', 'ones', 'fell', 'found'],\n",
              "      dtype='object')"
            ]
          },
          "metadata": {
            "tags": []
          },
          "execution_count": 29
        }
      ]
    },
    {
      "cell_type": "markdown",
      "metadata": {
        "id": "mkWMrw2v8zJ2"
      },
      "source": [
        "También es posible parsear las fechas al momento de leer el csv:\n",
        "\n",
        "```\n",
        "df = pd.read_csv(‘filename.csv’, parse_dates=[‘file_date’])\n",
        "```\n",
        "\n",
        "También es posible crear una función por si se tienen datos nulos o una zona horaria diferente:\n",
        "\n",
        "```\n",
        "df = pd.read_csv(‘filename.csv’,\n",
        "\tparse_dates=[‘column_date’],\n",
        "\tdate_parser=lambda x: pd.to_datetime(x, utc=True))\n",
        "```\n",
        "\n",
        "[Documentación](https://pandas.pydata.org/pandas-docs/stable/user_guide/io.html#io-csv-mixed-timezones)"
      ]
    }
  ]
}