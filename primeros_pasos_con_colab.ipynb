{
  "nbformat": 4,
  "nbformat_minor": 0,
  "metadata": {
    "colab": {
      "name": "primeros_pasos_con_colab.ipynb",
      "provenance": [],
      "authorship_tag": "ABX9TyPmnK9DSfSQAffDcn6V5r6h",
      "include_colab_link": true
    },
    "kernelspec": {
      "name": "python3",
      "display_name": "Python 3"
    },
    "language_info": {
      "name": "python"
    }
  },
  "cells": [
    {
      "cell_type": "markdown",
      "metadata": {
        "id": "view-in-github",
        "colab_type": "text"
      },
      "source": [
        "<a href=\"https://colab.research.google.com/github/bl00p1ng/Curso-analisis-de-datos-con-Pandas-y-Python/blob/main/primeros_pasos_con_colab.ipynb\" target=\"_parent\"><img src=\"https://colab.research.google.com/assets/colab-badge.svg\" alt=\"Open In Colab\"/></a>"
      ]
    },
    {
      "cell_type": "markdown",
      "metadata": {
        "id": "ZCi_GGkv4hx3"
      },
      "source": [
        "# Curso de Manipulación y Análisis de Datos con Pandas y Python\n",
        "\n",
        "## 📚 Módulo 1. Comenzando con pandas\n",
        "\n",
        "### Clase 2. Primeros pasos con Google Colab: configuración del entorno de trabajo\n",
        "\n",
        "Por defecto las listas en Python no cuentan con capacidades matemáticas, por eso al usarse el operador `+` entre listas se efectua una concatenación y no una suma."
      ]
    },
    {
      "cell_type": "code",
      "metadata": {
        "colab": {
          "base_uri": "https://localhost:8080/",
          "height": 0
        },
        "id": "Qx26Q2Ww4F78",
        "outputId": "d572c5b3-8cc2-4234-de8a-bf1956944155"
      },
      "source": [
        "[1, 2, 3, 4, 5] + [10]"
      ],
      "execution_count": 2,
      "outputs": [
        {
          "output_type": "execute_result",
          "data": {
            "text/plain": [
              "[1, 2, 3, 4, 5, 10]"
            ]
          },
          "metadata": {
            "tags": []
          },
          "execution_count": 2
        }
      ]
    },
    {
      "cell_type": "markdown",
      "metadata": {
        "id": "JadHh0ZG5et7"
      },
      "source": [
        "Para poder sumar un valor a caada uno de los elementos de un vetor es necesario usar **numpy**, una librería usada para análisis númerico"
      ]
    },
    {
      "cell_type": "code",
      "metadata": {
        "id": "LydXypzJ7_ES"
      },
      "source": [
        "import numpy as np"
      ],
      "execution_count": 3,
      "outputs": []
    },
    {
      "cell_type": "code",
      "metadata": {
        "colab": {
          "base_uri": "https://localhost:8080/",
          "height": 0
        },
        "id": "-Bgw9PU_8FM3",
        "outputId": "3899ef7e-337f-4d95-da21-c44f9130330b"
      },
      "source": [
        "# np.array() crea un vector con capacidades matemáticas\n",
        "np.array([1, 2, 3, 4, 5]) + 10"
      ],
      "execution_count": 4,
      "outputs": [
        {
          "output_type": "execute_result",
          "data": {
            "text/plain": [
              "array([11, 12, 13, 14, 15])"
            ]
          },
          "metadata": {
            "tags": []
          },
          "execution_count": 4
        }
      ]
    },
    {
      "cell_type": "markdown",
      "metadata": {
        "id": "rZ9mecSF8wVc"
      },
      "source": [
        "Para conocer las dimenciones de un vector se puede usar la propiedad `shape` de `numpy.array()`. Esta regresa una tula con las dimenciones del vector."
      ]
    },
    {
      "cell_type": "code",
      "metadata": {
        "colab": {
          "base_uri": "https://localhost:8080/",
          "height": 0
        },
        "id": "Yw3qHB4F89oE",
        "outputId": "52d5dfa7-14fd-4887-ea68-d8281ef662d1"
      },
      "source": [
        "np.array([1, 2, 3, 4, 5]).shape"
      ],
      "execution_count": 5,
      "outputs": [
        {
          "output_type": "execute_result",
          "data": {
            "text/plain": [
              "(5,)"
            ]
          },
          "metadata": {
            "tags": []
          },
          "execution_count": 5
        }
      ]
    },
    {
      "cell_type": "code",
      "metadata": {
        "colab": {
          "base_uri": "https://localhost:8080/",
          "height": 0
        },
        "id": "bdEkEQVh9Ddb",
        "outputId": "04c0b121-24c8-4bfe-a212-e0266902f833"
      },
      "source": [
        "# Crear un Array de múltiples dimenciones\n",
        "matrix = np.array([[1, 2, 3, 4], [6, 7, 8, 9]])\n",
        "print(matrix, '\\n')\n",
        "\n",
        "print(f'Dimenciones: {matrix.shape}')"
      ],
      "execution_count": 13,
      "outputs": [
        {
          "output_type": "stream",
          "text": [
            "[[1 2 3 4]\n",
            " [6 7 8 9]] \n",
            "\n",
            "Dimenciones: (2, 4)\n"
          ],
          "name": "stdout"
        }
      ]
    },
    {
      "cell_type": "markdown",
      "metadata": {
        "id": "7g3VLmtF_M2I"
      },
      "source": [
        "Para acceder a los elementos de la matriz se usa la notación de `[]` para acceder a las filas y columnas de la matriz usando su índice"
      ]
    },
    {
      "cell_type": "code",
      "metadata": {
        "colab": {
          "base_uri": "https://localhost:8080/",
          "height": 0
        },
        "id": "bD7S09Up9wiC",
        "outputId": "d3ecc59a-910c-4405-9009-c70b5c0d21e6"
      },
      "source": [
        "# Acceder a la primera fila de la matriz\n",
        "matrix[0]\n",
        "\n",
        "# Obtener un elemento específico de uan fila de la matriz\n",
        "matrix[0][2]"
      ],
      "execution_count": 15,
      "outputs": [
        {
          "output_type": "execute_result",
          "data": {
            "text/plain": [
              "3"
            ]
          },
          "metadata": {
            "tags": []
          },
          "execution_count": 15
        }
      ]
    }
  ]
}