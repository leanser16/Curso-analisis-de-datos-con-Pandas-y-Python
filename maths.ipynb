{
  "nbformat": 4,
  "nbformat_minor": 0,
  "metadata": {
    "colab": {
      "name": "maths.ipynb",
      "provenance": [],
      "collapsed_sections": [],
      "authorship_tag": "ABX9TyOdMHWgvQBctT/2vHLP2EvG",
      "include_colab_link": true
    },
    "kernelspec": {
      "name": "python3",
      "display_name": "Python 3"
    },
    "language_info": {
      "name": "python"
    }
  },
  "cells": [
    {
      "cell_type": "markdown",
      "metadata": {
        "id": "view-in-github",
        "colab_type": "text"
      },
      "source": [
        "<a href=\"https://colab.research.google.com/github/bl00p1ng/Curso-analisis-de-datos-con-Pandas-y-Python/blob/main/maths.ipynb\" target=\"_parent\"><img src=\"https://colab.research.google.com/assets/colab-badge.svg\" alt=\"Open In Colab\"/></a>"
      ]
    },
    {
      "cell_type": "markdown",
      "metadata": {
        "id": "S-0_iE0My5Vc"
      },
      "source": [
        "# Curso de Manipulación y Análisis de Datos con Pandas y Python\n",
        "\n",
        "## 📚 Módulo 3. Aplicando Pandas\n",
        "\n",
        "### Clase 12. Funciones matemáticas\n",
        "\n"
      ]
    },
    {
      "cell_type": "code",
      "metadata": {
        "id": "UupMQouMxyNY",
        "colab": {
          "base_uri": "https://localhost:8080/"
        },
        "outputId": "781c928a-d180-4b9f-d24b-78a89dc4c9ee"
      },
      "source": [
        "from google.colab import drive\n",
        "drive.mount('/content/drive')"
      ],
      "execution_count": 1,
      "outputs": [
        {
          "output_type": "stream",
          "text": [
            "Mounted at /content/drive\n"
          ],
          "name": "stdout"
        }
      ]
    },
    {
      "cell_type": "code",
      "metadata": {
        "colab": {
          "base_uri": "https://localhost:8080/"
        },
        "id": "Fes1XePUyqgG",
        "outputId": "0c66d194-edca-4b0a-8e00-ee79114305f9"
      },
      "source": [
        "%cd '/content/drive/MyDrive/Colab Notebooks/Curso-Pandas-y-Python/db'\n",
        "!ls"
      ],
      "execution_count": 3,
      "outputs": [
        {
          "output_type": "stream",
          "text": [
            "/content/drive/MyDrive/Colab Notebooks/Curso-Pandas-y-Python/db\n",
            "london_merged.csv\ttest.csv  test.json\ttest.pkl\n",
            "Meteorite_Landings.csv\ttest.hdf  test.parquet\ttest.xlsx\n"
          ],
          "name": "stdout"
        }
      ]
    },
    {
      "cell_type": "code",
      "metadata": {
        "colab": {
          "base_uri": "https://localhost:8080/",
          "height": 35
        },
        "id": "e5k-8kgVy2NY",
        "outputId": "45d6ae24-7f71-4db9-d300-fe10ae8b4680"
      },
      "source": [
        "import pandas as pd\n",
        "import numpy as np\n",
        "\n",
        "pd.__version__"
      ],
      "execution_count": 4,
      "outputs": [
        {
          "output_type": "execute_result",
          "data": {
            "application/vnd.google.colaboratory.intrinsic+json": {
              "type": "string"
            },
            "text/plain": [
              "'1.1.5'"
            ]
          },
          "metadata": {
            "tags": []
          },
          "execution_count": 4
        }
      ]
    },
    {
      "cell_type": "markdown",
      "metadata": {
        "id": "Z5s5u3FGziEE"
      },
      "source": [
        "Importar el DataSet"
      ]
    },
    {
      "cell_type": "code",
      "metadata": {
        "colab": {
          "base_uri": "https://localhost:8080/",
          "height": 394
        },
        "id": "yptrG_eOzQc2",
        "outputId": "aa237314-df73-4519-bb1c-050cfd5ce576"
      },
      "source": [
        "df_lmerged = pd.read_csv('london_merged.csv')\n",
        "df_lmerged.head()"
      ],
      "execution_count": 5,
      "outputs": [
        {
          "output_type": "execute_result",
          "data": {
            "text/html": [
              "<div>\n",
              "<style scoped>\n",
              "    .dataframe tbody tr th:only-of-type {\n",
              "        vertical-align: middle;\n",
              "    }\n",
              "\n",
              "    .dataframe tbody tr th {\n",
              "        vertical-align: top;\n",
              "    }\n",
              "\n",
              "    .dataframe thead th {\n",
              "        text-align: right;\n",
              "    }\n",
              "</style>\n",
              "<table border=\"1\" class=\"dataframe\">\n",
              "  <thead>\n",
              "    <tr style=\"text-align: right;\">\n",
              "      <th></th>\n",
              "      <th>timestamp</th>\n",
              "      <th>cnt</th>\n",
              "      <th>t1</th>\n",
              "      <th>t2</th>\n",
              "      <th>hum</th>\n",
              "      <th>wind_speed</th>\n",
              "      <th>weather_code</th>\n",
              "      <th>is_holiday</th>\n",
              "      <th>is_weekend</th>\n",
              "      <th>season</th>\n",
              "    </tr>\n",
              "  </thead>\n",
              "  <tbody>\n",
              "    <tr>\n",
              "      <th>0</th>\n",
              "      <td>2015-01-04 00:00:00</td>\n",
              "      <td>182</td>\n",
              "      <td>3.0</td>\n",
              "      <td>2.0</td>\n",
              "      <td>93.0</td>\n",
              "      <td>6.0</td>\n",
              "      <td>3.0</td>\n",
              "      <td>0.0</td>\n",
              "      <td>1.0</td>\n",
              "      <td>3.0</td>\n",
              "    </tr>\n",
              "    <tr>\n",
              "      <th>1</th>\n",
              "      <td>2015-01-04 01:00:00</td>\n",
              "      <td>138</td>\n",
              "      <td>3.0</td>\n",
              "      <td>2.5</td>\n",
              "      <td>93.0</td>\n",
              "      <td>5.0</td>\n",
              "      <td>1.0</td>\n",
              "      <td>0.0</td>\n",
              "      <td>1.0</td>\n",
              "      <td>3.0</td>\n",
              "    </tr>\n",
              "    <tr>\n",
              "      <th>2</th>\n",
              "      <td>2015-01-04 02:00:00</td>\n",
              "      <td>134</td>\n",
              "      <td>2.5</td>\n",
              "      <td>2.5</td>\n",
              "      <td>96.5</td>\n",
              "      <td>0.0</td>\n",
              "      <td>1.0</td>\n",
              "      <td>0.0</td>\n",
              "      <td>1.0</td>\n",
              "      <td>3.0</td>\n",
              "    </tr>\n",
              "    <tr>\n",
              "      <th>3</th>\n",
              "      <td>2015-01-04 03:00:00</td>\n",
              "      <td>72</td>\n",
              "      <td>2.0</td>\n",
              "      <td>2.0</td>\n",
              "      <td>100.0</td>\n",
              "      <td>0.0</td>\n",
              "      <td>1.0</td>\n",
              "      <td>0.0</td>\n",
              "      <td>1.0</td>\n",
              "      <td>3.0</td>\n",
              "    </tr>\n",
              "    <tr>\n",
              "      <th>4</th>\n",
              "      <td>2015-01-04 04:00:00</td>\n",
              "      <td>47</td>\n",
              "      <td>2.0</td>\n",
              "      <td>0.0</td>\n",
              "      <td>93.0</td>\n",
              "      <td>6.5</td>\n",
              "      <td>1.0</td>\n",
              "      <td>0.0</td>\n",
              "      <td>1.0</td>\n",
              "      <td>3.0</td>\n",
              "    </tr>\n",
              "  </tbody>\n",
              "</table>\n",
              "</div>"
            ],
            "text/plain": [
              "             timestamp  cnt   t1  ...  is_holiday  is_weekend  season\n",
              "0  2015-01-04 00:00:00  182  3.0  ...         0.0         1.0     3.0\n",
              "1  2015-01-04 01:00:00  138  3.0  ...         0.0         1.0     3.0\n",
              "2  2015-01-04 02:00:00  134  2.5  ...         0.0         1.0     3.0\n",
              "3  2015-01-04 03:00:00   72  2.0  ...         0.0         1.0     3.0\n",
              "4  2015-01-04 04:00:00   47  2.0  ...         0.0         1.0     3.0\n",
              "\n",
              "[5 rows x 10 columns]"
            ]
          },
          "metadata": {
            "tags": []
          },
          "execution_count": 5
        }
      ]
    },
    {
      "cell_type": "code",
      "metadata": {
        "colab": {
          "base_uri": "https://localhost:8080/"
        },
        "id": "AC3mqX1cz3En",
        "outputId": "fb70c998-28f0-4076-b632-8f0ef4b3e8b0"
      },
      "source": [
        "df_lmerged.dtypes"
      ],
      "execution_count": 6,
      "outputs": [
        {
          "output_type": "execute_result",
          "data": {
            "text/plain": [
              "timestamp        object\n",
              "cnt               int64\n",
              "t1              float64\n",
              "t2              float64\n",
              "hum             float64\n",
              "wind_speed      float64\n",
              "weather_code    float64\n",
              "is_holiday      float64\n",
              "is_weekend      float64\n",
              "season          float64\n",
              "dtype: object"
            ]
          },
          "metadata": {
            "tags": []
          },
          "execution_count": 6
        }
      ]
    },
    {
      "cell_type": "markdown",
      "metadata": {
        "id": "9iMgZTdeLVc7"
      },
      "source": [
        "Cuando el formato de la fecha no es muy complejo, Pandas es capaz de convertir la fecha sin especificar un formato"
      ]
    },
    {
      "cell_type": "code",
      "metadata": {
        "colab": {
          "base_uri": "https://localhost:8080/"
        },
        "id": "JAivteTZKuJ0",
        "outputId": "7a3878d3-fbad-4076-bda9-82bf70b00684"
      },
      "source": [
        "df_lmerged['timestamp'] = pd.to_datetime(df_lmerged['timestamp'])\n",
        "df_lmerged['timestamp']"
      ],
      "execution_count": 7,
      "outputs": [
        {
          "output_type": "execute_result",
          "data": {
            "text/plain": [
              "0       2015-01-04 00:00:00\n",
              "1       2015-01-04 01:00:00\n",
              "2       2015-01-04 02:00:00\n",
              "3       2015-01-04 03:00:00\n",
              "4       2015-01-04 04:00:00\n",
              "                ...        \n",
              "17409   2017-01-03 19:00:00\n",
              "17410   2017-01-03 20:00:00\n",
              "17411   2017-01-03 21:00:00\n",
              "17412   2017-01-03 22:00:00\n",
              "17413   2017-01-03 23:00:00\n",
              "Name: timestamp, Length: 17414, dtype: datetime64[ns]"
            ]
          },
          "metadata": {
            "tags": []
          },
          "execution_count": 7
        }
      ]
    },
    {
      "cell_type": "markdown",
      "metadata": {
        "id": "Sa_lFrEJL5rc"
      },
      "source": [
        "Cuando una columna es de tipo tiempo se puede acceder a propiedades como `hour` que contiene la hora definida en la variable de tipo tiempo"
      ]
    },
    {
      "cell_type": "code",
      "metadata": {
        "colab": {
          "base_uri": "https://localhost:8080/"
        },
        "id": "FdXFswwlLR60",
        "outputId": "47668bc2-b56a-46dd-946f-307dbaa34de6"
      },
      "source": [
        "df_lmerged['hour'] = df_lmerged['timestamp'].dt.hour\n",
        "df_lmerged['hour']"
      ],
      "execution_count": 8,
      "outputs": [
        {
          "output_type": "execute_result",
          "data": {
            "text/plain": [
              "0         0\n",
              "1         1\n",
              "2         2\n",
              "3         3\n",
              "4         4\n",
              "         ..\n",
              "17409    19\n",
              "17410    20\n",
              "17411    21\n",
              "17412    22\n",
              "17413    23\n",
              "Name: hour, Length: 17414, dtype: int64"
            ]
          },
          "metadata": {
            "tags": []
          },
          "execution_count": 8
        }
      ]
    },
    {
      "cell_type": "markdown",
      "metadata": {
        "id": "_PGkQYsSODRh"
      },
      "source": [
        "#### Crear una columna con sólo datos numéricos\n",
        "\n",
        "`iloc` permite hacer una selección de básada en posiciones enteras, también admite el uso de _slices_. \n",
        "\n",
        "En otras palabras `iloc` permite seleccionar posiciones de un DataFrame en base a su índice numérico. El primer parámetro representa las filas y el segundo las columnas.\n",
        "\n",
        "Dicha selección puede guardarse en una variable.\n",
        "\n",
        "[Documentación iloc](https://pandas.pydata.org/pandas-docs/stable/reference/api/pandas.DataFrame.iloc.html)"
      ]
    },
    {
      "cell_type": "code",
      "metadata": {
        "colab": {
          "base_uri": "https://localhost:8080/",
          "height": 224
        },
        "id": "P3pNgPihL1VX",
        "outputId": "7709a88f-e83e-49b0-86a8-d0f7f61de131"
      },
      "source": [
        "df = df_lmerged.iloc[:, 1:]\n",
        "df.head()"
      ],
      "execution_count": 9,
      "outputs": [
        {
          "output_type": "execute_result",
          "data": {
            "text/html": [
              "<div>\n",
              "<style scoped>\n",
              "    .dataframe tbody tr th:only-of-type {\n",
              "        vertical-align: middle;\n",
              "    }\n",
              "\n",
              "    .dataframe tbody tr th {\n",
              "        vertical-align: top;\n",
              "    }\n",
              "\n",
              "    .dataframe thead th {\n",
              "        text-align: right;\n",
              "    }\n",
              "</style>\n",
              "<table border=\"1\" class=\"dataframe\">\n",
              "  <thead>\n",
              "    <tr style=\"text-align: right;\">\n",
              "      <th></th>\n",
              "      <th>cnt</th>\n",
              "      <th>t1</th>\n",
              "      <th>t2</th>\n",
              "      <th>hum</th>\n",
              "      <th>wind_speed</th>\n",
              "      <th>weather_code</th>\n",
              "      <th>is_holiday</th>\n",
              "      <th>is_weekend</th>\n",
              "      <th>season</th>\n",
              "      <th>hour</th>\n",
              "    </tr>\n",
              "  </thead>\n",
              "  <tbody>\n",
              "    <tr>\n",
              "      <th>0</th>\n",
              "      <td>182</td>\n",
              "      <td>3.0</td>\n",
              "      <td>2.0</td>\n",
              "      <td>93.0</td>\n",
              "      <td>6.0</td>\n",
              "      <td>3.0</td>\n",
              "      <td>0.0</td>\n",
              "      <td>1.0</td>\n",
              "      <td>3.0</td>\n",
              "      <td>0</td>\n",
              "    </tr>\n",
              "    <tr>\n",
              "      <th>1</th>\n",
              "      <td>138</td>\n",
              "      <td>3.0</td>\n",
              "      <td>2.5</td>\n",
              "      <td>93.0</td>\n",
              "      <td>5.0</td>\n",
              "      <td>1.0</td>\n",
              "      <td>0.0</td>\n",
              "      <td>1.0</td>\n",
              "      <td>3.0</td>\n",
              "      <td>1</td>\n",
              "    </tr>\n",
              "    <tr>\n",
              "      <th>2</th>\n",
              "      <td>134</td>\n",
              "      <td>2.5</td>\n",
              "      <td>2.5</td>\n",
              "      <td>96.5</td>\n",
              "      <td>0.0</td>\n",
              "      <td>1.0</td>\n",
              "      <td>0.0</td>\n",
              "      <td>1.0</td>\n",
              "      <td>3.0</td>\n",
              "      <td>2</td>\n",
              "    </tr>\n",
              "    <tr>\n",
              "      <th>3</th>\n",
              "      <td>72</td>\n",
              "      <td>2.0</td>\n",
              "      <td>2.0</td>\n",
              "      <td>100.0</td>\n",
              "      <td>0.0</td>\n",
              "      <td>1.0</td>\n",
              "      <td>0.0</td>\n",
              "      <td>1.0</td>\n",
              "      <td>3.0</td>\n",
              "      <td>3</td>\n",
              "    </tr>\n",
              "    <tr>\n",
              "      <th>4</th>\n",
              "      <td>47</td>\n",
              "      <td>2.0</td>\n",
              "      <td>0.0</td>\n",
              "      <td>93.0</td>\n",
              "      <td>6.5</td>\n",
              "      <td>1.0</td>\n",
              "      <td>0.0</td>\n",
              "      <td>1.0</td>\n",
              "      <td>3.0</td>\n",
              "      <td>4</td>\n",
              "    </tr>\n",
              "  </tbody>\n",
              "</table>\n",
              "</div>"
            ],
            "text/plain": [
              "   cnt   t1   t2    hum  ...  is_holiday  is_weekend  season  hour\n",
              "0  182  3.0  2.0   93.0  ...         0.0         1.0     3.0     0\n",
              "1  138  3.0  2.5   93.0  ...         0.0         1.0     3.0     1\n",
              "2  134  2.5  2.5   96.5  ...         0.0         1.0     3.0     2\n",
              "3   72  2.0  2.0  100.0  ...         0.0         1.0     3.0     3\n",
              "4   47  2.0  0.0   93.0  ...         0.0         1.0     3.0     4\n",
              "\n",
              "[5 rows x 10 columns]"
            ]
          },
          "metadata": {
            "tags": []
          },
          "execution_count": 9
        }
      ]
    },
    {
      "cell_type": "markdown",
      "metadata": {
        "id": "shuHvg98MjbV"
      },
      "source": [
        "#### Operaciones matemáticas sobre un DaraFrame\n",
        "\n",
        "##### ☑ Potenciación\n",
        "\n",
        "Se pueden potenciar todos los valores numéricos de un DataFrame o sólo los valores de una columna especifica"
      ]
    },
    {
      "cell_type": "code",
      "metadata": {
        "colab": {
          "base_uri": "https://localhost:8080/"
        },
        "id": "BLh6g5doT1kj",
        "outputId": "27ad4644-4c6b-43bf-a196-b2bfe66a1051"
      },
      "source": [
        "df['wind_speed']**2"
      ],
      "execution_count": 10,
      "outputs": [
        {
          "output_type": "execute_result",
          "data": {
            "text/plain": [
              "0         36.00\n",
              "1         25.00\n",
              "2          0.00\n",
              "3          0.00\n",
              "4         42.25\n",
              "          ...  \n",
              "17409    361.00\n",
              "17410    441.00\n",
              "17411    576.00\n",
              "17412    529.00\n",
              "17413    484.00\n",
              "Name: wind_speed, Length: 17414, dtype: float64"
            ]
          },
          "metadata": {
            "tags": []
          },
          "execution_count": 10
        }
      ]
    },
    {
      "cell_type": "markdown",
      "metadata": {
        "id": "a0AimY4uVOw9"
      },
      "source": [
        "##### ☑ Suma"
      ]
    },
    {
      "cell_type": "code",
      "metadata": {
        "colab": {
          "base_uri": "https://localhost:8080/"
        },
        "id": "byeMUE2NUJdR",
        "outputId": "50f61bc3-c311-4dfe-8b7e-562d5dbc534f"
      },
      "source": [
        "df['wind_speed'] + 100"
      ],
      "execution_count": 11,
      "outputs": [
        {
          "output_type": "execute_result",
          "data": {
            "text/plain": [
              "0        106.0\n",
              "1        105.0\n",
              "2        100.0\n",
              "3        100.0\n",
              "4        106.5\n",
              "         ...  \n",
              "17409    119.0\n",
              "17410    121.0\n",
              "17411    124.0\n",
              "17412    123.0\n",
              "17413    122.0\n",
              "Name: wind_speed, Length: 17414, dtype: float64"
            ]
          },
          "metadata": {
            "tags": []
          },
          "execution_count": 11
        }
      ]
    },
    {
      "cell_type": "markdown",
      "metadata": {
        "id": "Gwa22OUOVaHX"
      },
      "source": [
        "También es posible aplicar funciones matemáticas como el _seno_"
      ]
    },
    {
      "cell_type": "code",
      "metadata": {
        "colab": {
          "base_uri": "https://localhost:8080/"
        },
        "id": "Xl6dvT5yVk1J",
        "outputId": "cc70ab4b-0d86-44ba-d6dc-913f74b48bd8"
      },
      "source": [
        "np.sin(df['wind_speed'])"
      ],
      "execution_count": 12,
      "outputs": [
        {
          "output_type": "execute_result",
          "data": {
            "text/plain": [
              "0       -0.279415\n",
              "1       -0.958924\n",
              "2        0.000000\n",
              "3        0.000000\n",
              "4        0.215120\n",
              "           ...   \n",
              "17409    0.149877\n",
              "17410    0.836656\n",
              "17411   -0.905578\n",
              "17412   -0.846220\n",
              "17413   -0.008851\n",
              "Name: wind_speed, Length: 17414, dtype: float64"
            ]
          },
          "metadata": {
            "tags": []
          },
          "execution_count": 12
        }
      ]
    },
    {
      "cell_type": "markdown",
      "metadata": {
        "id": "cUk0_3gwVs24"
      },
      "source": [
        "Se pueden hacer operaciones matemáticas entre columnas. \n",
        "\n",
        "Por ejemplo se puede encontrar la diferencia entre la temperatura real y la sensación térmica:"
      ]
    },
    {
      "cell_type": "code",
      "metadata": {
        "colab": {
          "base_uri": "https://localhost:8080/"
        },
        "id": "Z5-LrDsUWJ-M",
        "outputId": "6d9dd3a8-018f-499c-cc61-dda0cabdbad1"
      },
      "source": [
        "df['t1'] - df['t2']"
      ],
      "execution_count": 13,
      "outputs": [
        {
          "output_type": "execute_result",
          "data": {
            "text/plain": [
              "0        1.0\n",
              "1        0.5\n",
              "2        0.0\n",
              "3        0.0\n",
              "4        2.0\n",
              "        ... \n",
              "17409    4.0\n",
              "17410    4.0\n",
              "17411    4.0\n",
              "17412    4.0\n",
              "17413    4.0\n",
              "Length: 17414, dtype: float64"
            ]
          },
          "metadata": {
            "tags": []
          },
          "execution_count": 13
        }
      ]
    },
    {
      "cell_type": "markdown",
      "metadata": {
        "id": "D8JMW0JLWRe7"
      },
      "source": [
        "Además de los operadores aritméticos, Pandas también dispone de una serie de funciones para realizar operaciones matemáticas. Estas funciones tienen la ventaja de que al trabajar con valores nulos se puede definir un valor por defecto diferente de `NaN`, esto se hace con el parámetro `fill_value`\n",
        "\n",
        "Los métodos disponibles para efectuar operaciones matemáticas son:\n",
        "\n",
        "```\n",
        "+    add()\n",
        "-    sub(), subtract()\n",
        "*    mul(), multiply()\n",
        "/    truediv(), div(), divide()\n",
        "//   floordiv()\n",
        "%    mod()\n",
        "**   pow()\n",
        "```"
      ]
    },
    {
      "cell_type": "code",
      "metadata": {
        "colab": {
          "base_uri": "https://localhost:8080/"
        },
        "id": "KtN2uU4kfVlz",
        "outputId": "4eec0535-8f74-431a-afae-638fb3cce325"
      },
      "source": [
        "# Usando el operador de resta\n",
        "df['t1'].iloc[::3] - df['t2']"
      ],
      "execution_count": 14,
      "outputs": [
        {
          "output_type": "execute_result",
          "data": {
            "text/plain": [
              "0        1.0\n",
              "1        NaN\n",
              "2        NaN\n",
              "3        0.0\n",
              "4        NaN\n",
              "        ... \n",
              "17409    4.0\n",
              "17410    NaN\n",
              "17411    NaN\n",
              "17412    4.0\n",
              "17413    NaN\n",
              "Length: 17414, dtype: float64"
            ]
          },
          "metadata": {
            "tags": []
          },
          "execution_count": 14
        }
      ]
    },
    {
      "cell_type": "code",
      "metadata": {
        "colab": {
          "base_uri": "https://localhost:8080/"
        },
        "id": "idwmegtbfz22",
        "outputId": "f635e177-3f98-4f83-ebb0-237e534ca535"
      },
      "source": [
        "# Usando el método sub()\n",
        "df['t1'].iloc[::3].sub(df['t2'], fill_value=0)"
      ],
      "execution_count": 15,
      "outputs": [
        {
          "output_type": "execute_result",
          "data": {
            "text/plain": [
              "0        1.0\n",
              "1       -2.5\n",
              "2       -2.5\n",
              "3        0.0\n",
              "4        0.0\n",
              "        ... \n",
              "17409    4.0\n",
              "17410   -1.0\n",
              "17411   -1.5\n",
              "17412    4.0\n",
              "17413   -1.0\n",
              "Length: 17414, dtype: float64"
            ]
          },
          "metadata": {
            "tags": []
          },
          "execution_count": 15
        }
      ]
    },
    {
      "cell_type": "markdown",
      "metadata": {
        "id": "FGUFG-MUgLzA"
      },
      "source": [
        "Pandas también cuenta con propiedades de **álgebra líneal** como por ejemplo el _Producto Punto_:"
      ]
    },
    {
      "cell_type": "code",
      "metadata": {
        "colab": {
          "base_uri": "https://localhost:8080/"
        },
        "id": "-b-W40CNhQEe",
        "outputId": "9bdde963-1200-496b-b8bf-f5d02a4cae9f"
      },
      "source": [
        "df['t1'].dot(df['t1'])"
      ],
      "execution_count": 16,
      "outputs": [
        {
          "output_type": "execute_result",
          "data": {
            "text/plain": [
              "3247652.777777778"
            ]
          },
          "metadata": {
            "tags": []
          },
          "execution_count": 16
        }
      ]
    }
  ]
}