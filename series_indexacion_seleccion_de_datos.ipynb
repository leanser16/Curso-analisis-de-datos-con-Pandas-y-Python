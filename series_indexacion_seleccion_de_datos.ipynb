{
  "nbformat": 4,
  "nbformat_minor": 0,
  "metadata": {
    "colab": {
      "name": "series_indexacion_seleccion_de_datos.ipynb",
      "provenance": [],
      "collapsed_sections": [],
      "authorship_tag": "ABX9TyNJuNxbbAG8ke6uoI5lJ6T9",
      "include_colab_link": true
    },
    "kernelspec": {
      "name": "python3",
      "display_name": "Python 3"
    },
    "language_info": {
      "name": "python"
    }
  },
  "cells": [
    {
      "cell_type": "markdown",
      "metadata": {
        "id": "view-in-github",
        "colab_type": "text"
      },
      "source": [
        "<a href=\"https://colab.research.google.com/github/bl00p1ng/Curso-analisis-de-datos-con-Pandas-y-Python/blob/main/series_indexacion_seleccion_de_datos.ipynb\" target=\"_parent\"><img src=\"https://colab.research.google.com/assets/colab-badge.svg\" alt=\"Open In Colab\"/></a>"
      ]
    },
    {
      "cell_type": "markdown",
      "metadata": {
        "id": "5hAJ0d1NEGkC"
      },
      "source": [
        "# Curso de Manipulación y Análisis de Datos con Pandas y Python\n",
        "\n",
        "## 📚 Módulo 1. Comenzando con pandas\n",
        "\n",
        "### Clase 3. Series e Indexación y selección de datos\n",
        "\n"
      ]
    },
    {
      "cell_type": "code",
      "metadata": {
        "id": "cWPVnQURD3uT"
      },
      "source": [
        "import pandas as pd"
      ],
      "execution_count": 2,
      "outputs": []
    },
    {
      "cell_type": "markdown",
      "metadata": {
        "id": "lW-yhadMGZrb"
      },
      "source": [
        "#### Series\n",
        "\n",
        "Las `Series` de Pandas son similares a los vectores de Numpy, con la diferencia de que las `Series` tienen una columna de indexación. En resumen, se puede decir que las series no son más que un conjunto de datos ordenado."
      ]
    },
    {
      "cell_type": "code",
      "metadata": {
        "id": "2xoeu1RQFvWs",
        "colab": {
          "base_uri": "https://localhost:8080/"
        },
        "outputId": "fdb03cd5-69f9-44c7-979f-ae275e38ad30"
      },
      "source": [
        "sr = pd.Series([10, 9, 8, 7, 6])\n",
        "sr"
      ],
      "execution_count": 3,
      "outputs": [
        {
          "output_type": "execute_result",
          "data": {
            "text/plain": [
              "0    10\n",
              "1     9\n",
              "2     8\n",
              "3     7\n",
              "4     6\n",
              "dtype: int64"
            ]
          },
          "metadata": {
            "tags": []
          },
          "execution_count": 3
        }
      ]
    },
    {
      "cell_type": "markdown",
      "metadata": {
        "id": "lQLgyWttoBO7"
      },
      "source": [
        "Obtener los valores de la serie:"
      ]
    },
    {
      "cell_type": "code",
      "metadata": {
        "colab": {
          "base_uri": "https://localhost:8080/"
        },
        "id": "gEzEDCqfnucK",
        "outputId": "17f835d4-7d5a-4294-d13f-85c28497d4f3"
      },
      "source": [
        "sr.values"
      ],
      "execution_count": 4,
      "outputs": [
        {
          "output_type": "execute_result",
          "data": {
            "text/plain": [
              "array([10,  9,  8,  7,  6])"
            ]
          },
          "metadata": {
            "tags": []
          },
          "execution_count": 4
        }
      ]
    },
    {
      "cell_type": "markdown",
      "metadata": {
        "id": "HlRxR5aOoGXO"
      },
      "source": [
        "Obtener los índices de la serie:"
      ]
    },
    {
      "cell_type": "code",
      "metadata": {
        "colab": {
          "base_uri": "https://localhost:8080/"
        },
        "id": "OrCsblb2oSoH",
        "outputId": "2a58c6f8-40d2-4a42-d1fb-54ef50ad2e55"
      },
      "source": [
        "sr.index"
      ],
      "execution_count": 5,
      "outputs": [
        {
          "output_type": "execute_result",
          "data": {
            "text/plain": [
              "RangeIndex(start=0, stop=5, step=1)"
            ]
          },
          "metadata": {
            "tags": []
          },
          "execution_count": 5
        }
      ]
    },
    {
      "cell_type": "markdown",
      "metadata": {
        "id": "8ZRS50RJodqo"
      },
      "source": [
        "Conocer las dimensiones de la serie:"
      ]
    },
    {
      "cell_type": "code",
      "metadata": {
        "colab": {
          "base_uri": "https://localhost:8080/"
        },
        "id": "xzpK3YqgokTb",
        "outputId": "5aea6391-1441-4339-c9d2-658644258e7d"
      },
      "source": [
        "sr.shape"
      ],
      "execution_count": 6,
      "outputs": [
        {
          "output_type": "execute_result",
          "data": {
            "text/plain": [
              "(5,)"
            ]
          },
          "metadata": {
            "tags": []
          },
          "execution_count": 6
        }
      ]
    },
    {
      "cell_type": "markdown",
      "metadata": {
        "id": "k7BCDykCWFvO"
      },
      "source": [
        "Obtener un elemento de la serie:"
      ]
    },
    {
      "cell_type": "code",
      "metadata": {
        "colab": {
          "base_uri": "https://localhost:8080/"
        },
        "id": "557J0aT8WR0q",
        "outputId": "b676c096-4099-40b7-d152-a0339dc9fd8d"
      },
      "source": [
        "sr[3]"
      ],
      "execution_count": 10,
      "outputs": [
        {
          "output_type": "execute_result",
          "data": {
            "text/plain": [
              "7"
            ]
          },
          "metadata": {
            "tags": []
          },
          "execution_count": 10
        }
      ]
    },
    {
      "cell_type": "markdown",
      "metadata": {
        "id": "55q5vrRAW2dS"
      },
      "source": [
        "Obtener múltiples elementos de la serie:"
      ]
    },
    {
      "cell_type": "code",
      "metadata": {
        "colab": {
          "base_uri": "https://localhost:8080/"
        },
        "id": "hxIWmsO9WvIf",
        "outputId": "025b06e3-9175-486f-d068-67f1746c362e"
      },
      "source": [
        "sr[[0, 4, 2]]"
      ],
      "execution_count": 11,
      "outputs": [
        {
          "output_type": "execute_result",
          "data": {
            "text/plain": [
              "0    10\n",
              "4     6\n",
              "2     8\n",
              "dtype: int64"
            ]
          },
          "metadata": {
            "tags": []
          },
          "execution_count": 11
        }
      ]
    },
    {
      "cell_type": "markdown",
      "metadata": {
        "id": "9Dd4CrJnXpEP"
      },
      "source": [
        "También es posible modificar la estructura de los índices de la serie para que por ejemplo, los índices sean letras en lugar de números:"
      ]
    },
    {
      "cell_type": "code",
      "metadata": {
        "colab": {
          "base_uri": "https://localhost:8080/"
        },
        "id": "l4a9V_lAX8bS",
        "outputId": "57484a3b-ffa5-4292-bff3-fdfdb50d6f65"
      },
      "source": [
        "sr = pd.Series([10, 9, 8, 7, 6], index=['a', 'b', 'c', 'd', 'e'])\n",
        "sr"
      ],
      "execution_count": 15,
      "outputs": [
        {
          "output_type": "execute_result",
          "data": {
            "text/plain": [
              "a    10\n",
              "b     9\n",
              "c     8\n",
              "d     7\n",
              "e     6\n",
              "dtype: int64"
            ]
          },
          "metadata": {
            "tags": []
          },
          "execution_count": 15
        }
      ]
    },
    {
      "cell_type": "markdown",
      "metadata": {
        "id": "mquBMRohX-4r"
      },
      "source": [
        "El proceso para acceder a los elementos de la serie es el mismo, la única diferencia es que el índice que se use va a ser una letra en lugar de un número:"
      ]
    },
    {
      "cell_type": "code",
      "metadata": {
        "colab": {
          "base_uri": "https://localhost:8080/"
        },
        "id": "4pTcdYDgYZR4",
        "outputId": "5ac0e397-5f62-4f86-f77c-ea759a096077"
      },
      "source": [
        "sr['a']"
      ],
      "execution_count": 17,
      "outputs": [
        {
          "output_type": "execute_result",
          "data": {
            "text/plain": [
              "10"
            ]
          },
          "metadata": {
            "tags": []
          },
          "execution_count": 17
        }
      ]
    },
    {
      "cell_type": "markdown",
      "metadata": {
        "id": "0khIlxzaYrHf"
      },
      "source": [
        "Igualmente se pueden crear listas con los elementos de determinados índices en uan serie: "
      ]
    },
    {
      "cell_type": "code",
      "metadata": {
        "colab": {
          "base_uri": "https://localhost:8080/"
        },
        "id": "w2AgXrGaY750",
        "outputId": "c430d4c7-68e0-4cef-d903-dae00be50161"
      },
      "source": [
        "sr[['d', 'e']]"
      ],
      "execution_count": 18,
      "outputs": [
        {
          "output_type": "execute_result",
          "data": {
            "text/plain": [
              "d    7\n",
              "e    6\n",
              "dtype: int64"
            ]
          },
          "metadata": {
            "tags": []
          },
          "execution_count": 18
        }
      ]
    },
    {
      "cell_type": "markdown",
      "metadata": {
        "id": "jTH52YZQZG2V"
      },
      "source": [
        "También es posible obtener elementos de una serie dentro de un rango, es decir los elementos que se encuentran entre 2 índices. Esto se hace usando el operador `:` entre los 2 índices:"
      ]
    },
    {
      "cell_type": "code",
      "metadata": {
        "colab": {
          "base_uri": "https://localhost:8080/"
        },
        "id": "Yuj9AjHFZcZO",
        "outputId": "df8c693c-23ec-47e4-da98-bed6d0342e23"
      },
      "source": [
        "sr['b':'e']"
      ],
      "execution_count": 19,
      "outputs": [
        {
          "output_type": "execute_result",
          "data": {
            "text/plain": [
              "b    9\n",
              "c    8\n",
              "d    7\n",
              "e    6\n",
              "dtype: int64"
            ]
          },
          "metadata": {
            "tags": []
          },
          "execution_count": 19
        }
      ]
    },
    {
      "cell_type": "markdown",
      "metadata": {
        "id": "l4mnGyxsaOwq"
      },
      "source": [
        "#### Diccionarios\n",
        "\n",
        "Permiten almacenar cadenas de cualquier tipo de valor como textos, listas, funciones o números. Los diccionarios **almacenan datos siguiendo una estructura de clave/valor**:"
      ]
    },
    {
      "cell_type": "code",
      "metadata": {
        "colab": {
          "base_uri": "https://localhost:8080/"
        },
        "id": "Ubc7kK7LbFhg",
        "outputId": "0aa83bdc-7f6d-4c56-8ae1-cf478352d029"
      },
      "source": [
        "dict_data = {'CO': 100, 'MX': 200, 'AR': 300}\n",
        "dict_data"
      ],
      "execution_count": 21,
      "outputs": [
        {
          "output_type": "execute_result",
          "data": {
            "text/plain": [
              "{'AR': 300, 'CO': 100, 'MX': 200}"
            ]
          },
          "metadata": {
            "tags": []
          },
          "execution_count": 21
        }
      ]
    },
    {
      "cell_type": "markdown",
      "metadata": {
        "id": "n_pRS7KVbeMN"
      },
      "source": [
        "Para obtener las llaves de un diccionario se usa el método `keys()`"
      ]
    },
    {
      "cell_type": "code",
      "metadata": {
        "colab": {
          "base_uri": "https://localhost:8080/"
        },
        "id": "oy-w52_ubbeQ",
        "outputId": "585963c7-00c9-4148-8951-7342ee73b39c"
      },
      "source": [
        "dict_data.keys()"
      ],
      "execution_count": 22,
      "outputs": [
        {
          "output_type": "execute_result",
          "data": {
            "text/plain": [
              "dict_keys(['CO', 'MX', 'AR'])"
            ]
          },
          "metadata": {
            "tags": []
          },
          "execution_count": 22
        }
      ]
    },
    {
      "cell_type": "markdown",
      "metadata": {
        "id": "w2e548u7b3hK"
      },
      "source": [
        "Para acceder a un valor específico de un diccionario se pone la llave asociada al valor que se quiere obtener dentro de corchetes:"
      ]
    },
    {
      "cell_type": "code",
      "metadata": {
        "colab": {
          "base_uri": "https://localhost:8080/"
        },
        "id": "aB4APq-kbwad",
        "outputId": "618674ea-acae-4baf-d7eb-b3fc1560a0ef"
      },
      "source": [
        "dict_data['MX']"
      ],
      "execution_count": 23,
      "outputs": [
        {
          "output_type": "execute_result",
          "data": {
            "text/plain": [
              "200"
            ]
          },
          "metadata": {
            "tags": []
          },
          "execution_count": 23
        }
      ]
    },
    {
      "cell_type": "markdown",
      "metadata": {
        "id": "_3E0WaZX2UHv"
      },
      "source": [
        "Una de las caracteristicas de Pandas es la compatibilidad entre diferentes formatos para almacenar datos. Por ejemplo es posible **convertir un diccionario en una serie**:"
      ]
    },
    {
      "cell_type": "code",
      "metadata": {
        "colab": {
          "base_uri": "https://localhost:8080/"
        },
        "id": "TC0_CH5W2JDy",
        "outputId": "b2508d49-18db-4c53-ade7-cf499c37249a"
      },
      "source": [
        "pd.Series(dict_data)"
      ],
      "execution_count": 24,
      "outputs": [
        {
          "output_type": "execute_result",
          "data": {
            "text/plain": [
              "CO    100\n",
              "MX    200\n",
              "AR    300\n",
              "dtype: int64"
            ]
          },
          "metadata": {
            "tags": []
          },
          "execution_count": 24
        }
      ]
    },
    {
      "cell_type": "markdown",
      "metadata": {
        "id": "8AXD_DBG4HeM"
      },
      "source": [
        "Por defecto los índices de la serie serán las llaves del diccionario, no obstante este comportamineto se puede modificar y establecer índice diferentes:"
      ]
    },
    {
      "cell_type": "code",
      "metadata": {
        "colab": {
          "base_uri": "https://localhost:8080/"
        },
        "id": "tu10777739MQ",
        "outputId": "b38100eb-473e-44ed-d067-e5083a9e8e54"
      },
      "source": [
        "pd.Series(dict_data, index=['CO', 'MX', 'PE'])"
      ],
      "execution_count": 25,
      "outputs": [
        {
          "output_type": "execute_result",
          "data": {
            "text/plain": [
              "CO    100.0\n",
              "MX    200.0\n",
              "PE      NaN\n",
              "dtype: float64"
            ]
          },
          "metadata": {
            "tags": []
          },
          "execution_count": 25
        }
      ]
    },
    {
      "cell_type": "code",
      "metadata": {
        "id": "RZ3wxDP947QR"
      },
      "source": [
        "import numpy as np"
      ],
      "execution_count": 26,
      "outputs": []
    },
    {
      "cell_type": "markdown",
      "metadata": {
        "id": "OiXr5V_85cKN"
      },
      "source": [
        "#### Acerca de los valores nulos\n",
        "\n",
        "Se puede crear una variable nula usando Numpy. Cabe aclarar que cualquier operación realizada con una variable nula dará como resultado una variable nula."
      ]
    },
    {
      "cell_type": "code",
      "metadata": {
        "colab": {
          "base_uri": "https://localhost:8080/"
        },
        "id": "ozG6j4cm5Do2",
        "outputId": "0f8c9856-bfd7-447e-8074-7fc90db2f35a"
      },
      "source": [
        "# np.nan crea una variable nula\n",
        "np.nan + 10"
      ],
      "execution_count": 27,
      "outputs": [
        {
          "output_type": "execute_result",
          "data": {
            "text/plain": [
              "nan"
            ]
          },
          "metadata": {
            "tags": []
          },
          "execution_count": 27
        }
      ]
    },
    {
      "cell_type": "markdown",
      "metadata": {
        "id": "x7LwDbJT5-_R"
      },
      "source": [
        "Al trabajar con _Data Sets_ es bastante común encontrarse con valores nulos. No obstante Pandas tiene funciones que permiten trabajar con números no definidos."
      ]
    },
    {
      "cell_type": "code",
      "metadata": {
        "id": "dJRDeKaB6acz"
      },
      "source": [
        "sr_nan = pd.Series(dict_data, index=['CO', 'MX', 'PE'])"
      ],
      "execution_count": 28,
      "outputs": []
    },
    {
      "cell_type": "markdown",
      "metadata": {
        "id": "dIfGK8nT6uQS"
      },
      "source": [
        "`isnull()` es un método que retorna una serie de boolenanos dependiendo de si encuentra o no valores nulos:"
      ]
    },
    {
      "cell_type": "code",
      "metadata": {
        "colab": {
          "base_uri": "https://localhost:8080/"
        },
        "id": "1uRLwFae6kuc",
        "outputId": "46d59560-e8d0-483d-a9b1-ea7782e08aaa"
      },
      "source": [
        "sr_nan.isnull()"
      ],
      "execution_count": 29,
      "outputs": [
        {
          "output_type": "execute_result",
          "data": {
            "text/plain": [
              "CO    False\n",
              "MX    False\n",
              "PE     True\n",
              "dtype: bool"
            ]
          },
          "metadata": {
            "tags": []
          },
          "execution_count": 29
        }
      ]
    },
    {
      "cell_type": "markdown",
      "metadata": {
        "id": "iEeJnBRF7BDZ"
      },
      "source": [
        "`notnull()` hace exactamente lo contrario al método anterior; retorna `True` si el valor **no es nulo** y `False` en el caso contrario:"
      ]
    },
    {
      "cell_type": "code",
      "metadata": {
        "colab": {
          "base_uri": "https://localhost:8080/"
        },
        "id": "b10D-vb17fcv",
        "outputId": "95bcc15c-b8dd-4fae-8ead-830314d2919d"
      },
      "source": [
        "sr_nan.notnull()"
      ],
      "execution_count": 30,
      "outputs": [
        {
          "output_type": "execute_result",
          "data": {
            "text/plain": [
              "CO     True\n",
              "MX     True\n",
              "PE    False\n",
              "dtype: bool"
            ]
          },
          "metadata": {
            "tags": []
          },
          "execution_count": 30
        }
      ]
    }
  ]
}